{
 "cells": [
  {
   "cell_type": "markdown",
   "metadata": {},
   "source": [
    "# Web Scraping Lab\n",
    "\n",
    "You will find in this notebook some scrapy exercises to practise your scraping skills.\n",
    "\n",
    "**Tips:**\n",
    "\n",
    "- Check the response status code for each request to ensure you have obtained the intended contennt.\n",
    "- Print the response text in each request to understand the kind of info you are getting and its format.\n",
    "- Check for patterns in the response text to extract the data/info requested in each question.\n",
    "- Visit each url and take a look at its source through Chrome DevTools. You'll need to identify the html tags, special class names etc. used for the html content you are expected to extract."
   ]
  },
  {
   "cell_type": "markdown",
   "metadata": {},
   "source": [
    "- [Requests library](http://docs.python-requests.org/en/master/#the-user-guide) documentation \n",
    "- [Beautiful Soup Doc](https://www.crummy.com/software/BeautifulSoup/bs4/doc/)\n",
    "- [Urllib](https://docs.python.org/3/library/urllib.html#module-urllib)\n",
    "- [re lib](https://docs.python.org/3/library/re.html)\n",
    "- [lxml lib](https://lxml.de/)\n",
    "- [Scrapy](https://scrapy.org/)\n",
    "- [List of HTTP status codes](https://en.wikipedia.org/wiki/List_of_HTTP_status_codes)\n",
    "- [HTML basics](http://www.simplehtmlguide.com/cheatsheet.php)\n",
    "- [CSS basics](https://www.cssbasics.com/#page_start)"
   ]
  },
  {
   "cell_type": "markdown",
   "metadata": {},
   "source": [
    "#### Below are the libraries and modules you may need. `requests`,  `BeautifulSoup` and `pandas` are imported for you. If you prefer to use additional libraries feel free to uncomment them."
   ]
  },
  {
   "cell_type": "code",
   "execution_count": 127,
   "metadata": {},
   "outputs": [],
   "source": [
    "import requests\n",
    "from bs4 import BeautifulSoup\n",
    "import pandas as pd\n",
    "import regex as re\n",
    "# from pprint import pprint\n",
    "# from lxml import html\n",
    "# from lxml.html import fromstring\n",
    "# import urllib.request\n",
    "# from urllib.request import urlopen\n",
    "# import random\n",
    "# import re\n",
    "# import scrapy"
   ]
  },
  {
   "cell_type": "markdown",
   "metadata": {},
   "source": [
    "#### Download, parse (using BeautifulSoup), and print the content from the Trending Developers page from GitHub:"
   ]
  },
  {
   "cell_type": "code",
   "execution_count": 4,
   "metadata": {},
   "outputs": [],
   "source": [
    "# This is the url you will scrape in this exercise\n",
    "url = 'https://github.com/trending/developers'"
   ]
  },
  {
   "cell_type": "code",
   "execution_count": 83,
   "metadata": {},
   "outputs": [],
   "source": [
    "#your code\n",
    "res = requests.get('https://github.com/trending/developers')\n"
   ]
  },
  {
   "cell_type": "code",
   "execution_count": 184,
   "metadata": {},
   "outputs": [],
   "source": [
    "soup = BeautifulSoup(res.text, 'html.parser')\n",
    "#soup.find_all(\"h1\")"
   ]
  },
  {
   "cell_type": "code",
   "execution_count": 188,
   "metadata": {},
   "outputs": [],
   "source": [
    "names = [tag.text for tag in soup.find_all(\"h1\")]\n",
    "usernames = [tag.text for tag in soup.find_all(\"p\")]\n",
    "\n",
    "names1 = [name.split(\"\\n\") for name in names]\n",
    "names_clean = re.findall(r\"\\w+\\ \\w+\",str(names1))\n",
    "\n",
    "username1 = [name.split(\"\\n\") for name in usernames]\n",
    "username1.pop(0)\n",
    "username1.pop(22)\n",
    "username_clean = re.findall(r\"\\w+.\",str(username1)[3:])\n",
    "namess = names_clean,username_clean\n",
    "z = zip(names_clean,username_clean)\n",
    "\n",
    "\n"
   ]
  },
  {
   "cell_type": "markdown",
   "metadata": {},
   "source": [
    "#### Display the names of the trending developers retrieved in the previous step.\n",
    "\n",
    "Your output should be a Python list of developer names. Each name should not contain any html tag.\n",
    "\n",
    "**Instructions:**\n",
    "\n",
    "1. Find out the html tag and class names used for the developer names. You can achieve this using Chrome DevTools.\n",
    "\n",
    "1. Use BeautifulSoup to extract all the html elements that contain the developer names.\n",
    "\n",
    "1. Use string manipulation techniques to replace whitespaces and linebreaks (i.e. `\\n`) in the *text* of each html element. Use a list to store the clean names.\n",
    "\n",
    "1. Print the list of names.\n",
    "\n",
    "Your output should look like below:\n",
    "\n",
    "```\n",
    "['trimstray (@trimstray)',\n",
    " 'joewalnes (JoeWalnes)',\n",
    " 'charlax (Charles-AxelDein)',\n",
    " 'ForrestKnight (ForrestKnight)',\n",
    " 'revery-ui (revery-ui)',\n",
    " 'alibaba (Alibaba)',\n",
    " 'Microsoft (Microsoft)',\n",
    " 'github (GitHub)',\n",
    " 'facebook (Facebook)',\n",
    " 'boazsegev (Bo)',\n",
    " 'google (Google)',\n",
    " 'cloudfetch',\n",
    " 'sindresorhus (SindreSorhus)',\n",
    " 'tensorflow',\n",
    " 'apache (TheApacheSoftwareFoundation)',\n",
    " 'DevonCrawford (DevonCrawford)',\n",
    " 'ARMmbed (ArmMbed)',\n",
    " 'vuejs (vuejs)',\n",
    " 'fastai (fast.ai)',\n",
    " 'QiShaoXuan (Qi)',\n",
    " 'joelparkerhenderson (JoelParkerHenderson)',\n",
    " 'torvalds (LinusTorvalds)',\n",
    " 'CyC2018',\n",
    " 'komeiji-satori (神楽坂覚々)',\n",
    " 'script-8']\n",
    " ```"
   ]
  },
  {
   "cell_type": "code",
   "execution_count": 189,
   "metadata": {},
   "outputs": [
    {
     "data": {
      "text/plain": [
       "[('William Candillon', \"wcandillon'\"),\n",
       " ('Han Xiao', \"hanxiao'\"),\n",
       " ('Arvid Norberg', \"arvidn'\"),\n",
       " ('Franck Nijhof', \"frenck'\"),\n",
       " ('Javier Suárez', \"jsuarezruiz'\"),\n",
       " ('Manfred Touron', \"moul'\"),\n",
       " ('Rob Norris', \"tpolecat'\"),\n",
       " ('Ruslan Konviser', \"evereq'\"),\n",
       " ('Eric Niebler', \"Ever'\"),\n",
       " ('MinJae Kwon', \"ericniebler'\"),\n",
       " ('Carlos Alexandro', \"mingrammer'\"),\n",
       " ('Taylor Otwell', \"caarlos0'\"),\n",
       " ('Fred K', \"taylorotwell'\"),\n",
       " ('Igor Randjelovic', \"FredKSchott'\"),\n",
       " ('Tim Gross', \"rigor789'\"),\n",
       " ('Fons van', \"tgross'\"),\n",
       " ('der Plas', 'hashicorp '),\n",
       " ('Rico Huijbers', \"fonsp'\"),\n",
       " ('Zoltan Kochan', \"rix0rrr'\"),\n",
       " ('Benoit Chesneau', \"zkochan'\"),\n",
       " ('Kazuho Oku', \"benoitc'\"),\n",
       " ('Matt Perry', \"kazuho'\"),\n",
       " ('Jake Archibald', \"jakearchibald'\"),\n",
       " ('Tom Moor', \"tommoor'\"),\n",
       " ('Daichi Furiya', \"wasabeef'\")]"
      ]
     },
     "execution_count": 189,
     "metadata": {},
     "output_type": "execute_result"
    }
   ],
   "source": [
    "#your code\n",
    "list(z)"
   ]
  },
  {
   "cell_type": "markdown",
   "metadata": {},
   "source": [
    "#### Display the trending Python repositories in GitHub\n",
    "\n",
    "The steps to solve this problem is similar to the previous one except that you need to find out the repository names instead of developer names."
   ]
  },
  {
   "cell_type": "code",
   "execution_count": null,
   "metadata": {},
   "outputs": [],
   "source": [
    "# This is the url you will scrape in this exercise\n",
    "url = 'https://github.com/trending/python?since=daily'"
   ]
  },
  {
   "cell_type": "code",
   "execution_count": 240,
   "metadata": {},
   "outputs": [
    {
     "data": {
      "text/plain": [
       "['mingrammer /',\n",
       " 'PyTorchLightning /',\n",
       " 'learn /',\n",
       " 'baowenbo /',\n",
       " 'Rudrabha /',\n",
       " 'blacklanternsecurity /',\n",
       " 'facebookresearch /',\n",
       " 'vaastav /',\n",
       " 'huangsam /',\n",
       " 'kangvcar /',\n",
       " 'sowdust /',\n",
       " 'celery /',\n",
       " 'huggingface /',\n",
       " 'fighting41love /',\n",
       " 'Kr1s77 /',\n",
       " 'iGhibli /',\n",
       " 'assistant /',\n",
       " 'MobSF /',\n",
       " 'geekcomputers /',\n",
       " 'tzutalin /',\n",
       " 'sunainapai /',\n",
       " 'aristocratos /',\n",
       " 'richzhang /',\n",
       " 'apache /',\n",
       " 'RasaHQ /']"
      ]
     },
     "execution_count": 240,
     "metadata": {},
     "output_type": "execute_result"
    }
   ],
   "source": [
    "#your code\n",
    "res1 = requests.get(\"https://github.com/trending/python?since=daily\")\n",
    "x = res1.text\n",
    "soup1 = BeautifulSoup(res1.text, 'html.parser')\n",
    "#soup1.find_all(\"a\")\n",
    "repos = [tag.text for tag in soup1.find_all(\"h1\")]\n",
    "repos1 = [repo.split(\"\\n\") for repo in repos]\n",
    "repos2 = re.findall(r\"\\w+\\ \\/\",str(repos1))\n",
    "repos2"
   ]
  },
  {
   "cell_type": "markdown",
   "metadata": {},
   "source": [
    "#### Display all the image links from Walt Disney wikipedia page"
   ]
  },
  {
   "cell_type": "code",
   "execution_count": null,
   "metadata": {},
   "outputs": [],
   "source": [
    "# This is the url you will scrape in this exercise\n",
    "url = 'https://en.wikipedia.org/wiki/Walt_Disney'"
   ]
  },
  {
   "cell_type": "code",
   "execution_count": 278,
   "metadata": {},
   "outputs": [
    {
     "data": {
      "text/plain": [
       "['//upload.wikimedia.org/wikipedia/en/thumb/e/e7/Cscr-featured.svg/20px-Cscr-featured.svg.png',\n",
       " '//upload.wikimedia.org/wikipedia/en/thumb/8/8c/Extended-protection-shackle.svg/20px-Extended-protection-shackle.svg.png',\n",
       " '//upload.wikimedia.org/wikipedia/commons/thumb/d/df/Walt_Disney_1946.JPG/220px-Walt_Disney_1946.JPG',\n",
       " '//upload.wikimedia.org/wikipedia/commons/thumb/8/87/Walt_Disney_1942_signature.svg/150px-Walt_Disney_1942_signature.svg.png',\n",
       " '//upload.wikimedia.org/wikipedia/commons/thumb/c/c4/Walt_Disney_envelope_ca._1921.jpg/220px-Walt_Disney_envelope_ca._1921.jpg',\n",
       " '//upload.wikimedia.org/wikipedia/commons/thumb/4/4d/Newman_Laugh-O-Gram_%281921%29.webm/220px-seek%3D2-Newman_Laugh-O-Gram_%281921%29.webm.jpg',\n",
       " '//upload.wikimedia.org/wikipedia/commons/thumb/0/0d/Trolley_Troubles_poster.jpg/170px-Trolley_Troubles_poster.jpg',\n",
       " '//upload.wikimedia.org/wikipedia/commons/thumb/7/71/Walt_Disney_and_his_cartoon_creation_%22Mickey_Mouse%22_-_National_Board_of_Review_Magazine.jpg/170px-Walt_Disney_and_his_cartoon_creation_%22Mickey_Mouse%22_-_National_Board_of_Review_Magazine.jpg',\n",
       " '//upload.wikimedia.org/wikipedia/en/thumb/4/4e/Steamboat-willie.jpg/170px-Steamboat-willie.jpg',\n",
       " '//upload.wikimedia.org/wikipedia/commons/thumb/5/57/Walt_Disney_1935.jpg/170px-Walt_Disney_1935.jpg',\n",
       " '//upload.wikimedia.org/wikipedia/commons/thumb/c/cd/Walt_Disney_Snow_white_1937_trailer_screenshot_%2813%29.jpg/220px-Walt_Disney_Snow_white_1937_trailer_screenshot_%2813%29.jpg',\n",
       " '//upload.wikimedia.org/wikipedia/commons/thumb/1/15/Disney_drawing_goofy.jpg/170px-Disney_drawing_goofy.jpg',\n",
       " '//upload.wikimedia.org/wikipedia/commons/thumb/1/13/DisneySchiphol1951.jpg/220px-DisneySchiphol1951.jpg',\n",
       " '//upload.wikimedia.org/wikipedia/commons/thumb/8/8c/WaltDisneyplansDisneylandDec1954.jpg/220px-WaltDisneyplansDisneylandDec1954.jpg',\n",
       " '//upload.wikimedia.org/wikipedia/commons/thumb/f/ff/Walt_disney_portrait_right.jpg/170px-Walt_disney_portrait_right.jpg',\n",
       " '//upload.wikimedia.org/wikipedia/commons/thumb/1/1a/Walt_Disney_Grave.JPG/170px-Walt_Disney_Grave.JPG',\n",
       " '//upload.wikimedia.org/wikipedia/commons/thumb/2/2d/Roy_O._Disney_with_Company_at_Press_Conference.jpg/170px-Roy_O._Disney_with_Company_at_Press_Conference.jpg',\n",
       " '//upload.wikimedia.org/wikipedia/commons/thumb/a/a9/Disney_Display_Case.JPG/170px-Disney_Display_Case.JPG',\n",
       " '//upload.wikimedia.org/wikipedia/commons/thumb/6/6c/Disney1968.jpg/170px-Disney1968.jpg',\n",
       " '//upload.wikimedia.org/wikipedia/en/thumb/8/8a/OOjs_UI_icon_edit-ltr-progressive.svg/10px-OOjs_UI_icon_edit-ltr-progressive.svg.png',\n",
       " '//upload.wikimedia.org/wikipedia/commons/thumb/4/44/The_Walt_Disney_Company_Logo.svg/120px-The_Walt_Disney_Company_Logo.svg.png',\n",
       " '//upload.wikimedia.org/wikipedia/commons/thumb/d/da/Animation_disc.svg/30px-Animation_disc.svg.png',\n",
       " '//upload.wikimedia.org/wikipedia/en/thumb/6/69/P_vip.svg/29px-P_vip.svg.png',\n",
       " '//upload.wikimedia.org/wikipedia/commons/thumb/1/1a/Magic_Kingdom_castle.jpg/24px-Magic_Kingdom_castle.jpg',\n",
       " '//upload.wikimedia.org/wikipedia/en/thumb/e/e7/Video-x-generic.svg/30px-Video-x-generic.svg.png',\n",
       " '//upload.wikimedia.org/wikipedia/commons/thumb/a/a3/Flag_of_Los_Angeles_County%2C_California.svg/30px-Flag_of_Los_Angeles_County%2C_California.svg.png',\n",
       " '//upload.wikimedia.org/wikipedia/commons/thumb/8/8c/Blank_television_set.svg/30px-Blank_television_set.svg.png',\n",
       " '//upload.wikimedia.org/wikipedia/en/thumb/a/a4/Flag_of_the_United_States.svg/30px-Flag_of_the_United_States.svg.png',\n",
       " '//upload.wikimedia.org/wikipedia/en/thumb/4/4a/Commons-logo.svg/22px-Commons-logo.svg.png',\n",
       " '//upload.wikimedia.org/wikipedia/commons/thumb/f/fa/Wikiquote-logo.svg/25px-Wikiquote-logo.svg.png',\n",
       " '//upload.wikimedia.org/wikipedia/commons/thumb/f/ff/Wikidata-logo.svg/30px-Wikidata-logo.svg.png',\n",
       " '//upload.wikimedia.org/wikipedia/en/thumb/8/8a/OOjs_UI_icon_edit-ltr-progressive.svg/10px-OOjs_UI_icon_edit-ltr-progressive.svg.png',\n",
       " '//en.wikipedia.org/wiki/Special:CentralAutoLogin/start?type=1x1',\n",
       " '/static/images/footer/wikimedia-button.png',\n",
       " '/static/images/footer/poweredby_mediawiki_88x31.png']"
      ]
     },
     "execution_count": 278,
     "metadata": {},
     "output_type": "execute_result"
    }
   ],
   "source": [
    "#your code\n",
    "resp = requests.get(\"https://en.wikipedia.org/wiki/Walt_Disney\")\n",
    "y = resp.text\n",
    "soup2= BeautifulSoup(resp.text, 'html.parser')\n",
    "images = []\n",
    "for img in soup2.findAll('img'):\n",
    "    images.append(img.get('src'))\n",
    "images"
   ]
  },
  {
   "cell_type": "markdown",
   "metadata": {},
   "source": [
    "#### Retrieve an arbitary Wikipedia page of \"Python\" and create a list of links on that page"
   ]
  },
  {
   "cell_type": "code",
   "execution_count": null,
   "metadata": {},
   "outputs": [],
   "source": [
    "# This is the url you will scrape in this exercise\n",
    "url ='https://en.wikipedia.org/wiki/Python' "
   ]
  },
  {
   "cell_type": "code",
   "execution_count": 280,
   "metadata": {},
   "outputs": [],
   "source": [
    "#your code\n",
    "respo = requests.get('https://en.wikipedia.org/wiki/Python_(mythology)')\n",
    "n=respo.text"
   ]
  },
  {
   "cell_type": "code",
   "execution_count": 292,
   "metadata": {
    "scrolled": true
   },
   "outputs": [
    {
     "data": {
      "text/plain": [
       "[None,\n",
       " '#mw-head',\n",
       " '#searchInput',\n",
       " '/wiki/Pythia',\n",
       " '/wiki/File:Apollo_dan_Pithon.jpg',\n",
       " '/wiki/File:Apollo_dan_Pithon.jpg',\n",
       " '/wiki/Apollo',\n",
       " '/wiki/Virgil_Solis',\n",
       " '/wiki/Ovid',\n",
       " '/wiki/Metamorphoses',\n",
       " '/wiki/Greek_mythology',\n",
       " '/wiki/Greek_language',\n",
       " '/wiki/Genitive_case',\n",
       " '/wiki/Serpent_(symbolism)',\n",
       " '/wiki/Medieval',\n",
       " '/wiki/Dragon',\n",
       " '/wiki/Earth',\n",
       " '/wiki/Delphi',\n",
       " '#Mythology',\n",
       " '#Versions_and_interpretations',\n",
       " '#See_also',\n",
       " '#Notes',\n",
       " '#References',\n",
       " '/w/index.php?title=Python_(mythology)&action=edit&section=1',\n",
       " '/wiki/Oracle',\n",
       " '/wiki/Gaia_(mythology)',\n",
       " '#cite_note-1',\n",
       " '/wiki/Axis_mundi#Places',\n",
       " '/wiki/Omphalos',\n",
       " '/wiki/Chthonic',\n",
       " '/wiki/Apollo',\n",
       " '#cite_note-2',\n",
       " '#cite_note-3',\n",
       " '/w/index.php?title=Python_(mythology)&action=edit&section=2',\n",
       " '/wiki/File:Pietro_Francavilla_-_Apollo_Victorious_over_the_Python_-_Walters_27302.jpg',\n",
       " '/wiki/File:Pietro_Francavilla_-_Apollo_Victorious_over_the_Python_-_Walters_27302.jpg',\n",
       " '#cite_note-4',\n",
       " '/wiki/Homeric_Hymn',\n",
       " '#cite_note-5',\n",
       " '/wiki/Drakaina_(mythology)',\n",
       " '/wiki/Gaius_Julius_Hyginus',\n",
       " '#cite_note-6',\n",
       " '/wiki/Zeus',\n",
       " '/wiki/Leto',\n",
       " '/wiki/Artemis',\n",
       " '/wiki/Apollo',\n",
       " '/wiki/Hera',\n",
       " '/wiki/Mount_Parnassus',\n",
       " '/wiki/Gaia_(mythology)',\n",
       " '/wiki/Robert_Graves',\n",
       " '/wiki/Greeks',\n",
       " '/wiki/Sacrilege',\n",
       " '/wiki/Pythian_Games',\n",
       " '/wiki/Erwin_Rohde',\n",
       " '/wiki/Omphalos',\n",
       " '#cite_note-7',\n",
       " '/wiki/Oracle',\n",
       " '/wiki/Delphi',\n",
       " '/wiki/Hyperion_(mythology)',\n",
       " '/wiki/Helios',\n",
       " '#cite_note-8',\n",
       " '/wiki/Karl_Kerenyi',\n",
       " '#cite_note-9',\n",
       " '/wiki/Delphyne',\n",
       " '/wiki/Typhon',\n",
       " '/wiki/Typhoeus',\n",
       " '/wiki/Pythia',\n",
       " '/wiki/Omphalos',\n",
       " '#cite_note-10',\n",
       " '/w/index.php?title=Python_(mythology)&action=edit&section=3',\n",
       " '/wiki/Python_(genus)',\n",
       " '/wiki/Pythonidae',\n",
       " '/wiki/File:Barcelona_221.JPG',\n",
       " '/wiki/File:Barcelona_221.JPG',\n",
       " '/wiki/Apollo_Belvedere',\n",
       " '/wiki/Delphi',\n",
       " '/wiki/Dragons_in_Greek_mythology',\n",
       " '/wiki/Pythia',\n",
       " '/wiki/Serpent_(symbolism)',\n",
       " '/wiki/Saint_George_and_the_Dragon',\n",
       " '/wiki/Analogy_of_the_sun',\n",
       " '/wiki/Yamata_no_Orochi',\n",
       " '/w/index.php?title=Python_(mythology)&action=edit&section=4',\n",
       " '#cite_ref-1',\n",
       " '/wiki/Telphousa',\n",
       " '/wiki/Parnassus',\n",
       " '#cite_ref-2',\n",
       " '/wiki/Dodona',\n",
       " '#cite_ref-3',\n",
       " '#cite_ref-4',\n",
       " 'http://art.thewalters.org/detail/7866',\n",
       " '/wiki/The_Walters_Art_Museum',\n",
       " '#cite_ref-5',\n",
       " '/wiki/Walter_Burkert',\n",
       " '#cite_ref-6',\n",
       " '#cite_ref-7',\n",
       " '#cite_ref-8',\n",
       " '#cite_ref-9',\n",
       " '#cite_ref-10',\n",
       " 'https://en.wikisource.org/wiki/The_Encyclopedia_Americana_(1920)/Python_(mythology)',\n",
       " '/wiki/Encyclopedia_Americana',\n",
       " '/w/index.php?title=Python_(mythology)&action=edit&section=5',\n",
       " 'https://commons.wikimedia.org/wiki/Category:Python_(mythology)',\n",
       " '/wiki/Wikisource',\n",
       " '/wiki/Encyclop%C3%A6dia_Britannica_Eleventh_Edition',\n",
       " 'https://en.wikisource.org/wiki/1911_Encyclop%C3%A6dia_Britannica/Python_(mythology)',\n",
       " '/wiki/Walter_Burkert',\n",
       " 'http://www.sacred-texts.com/etc/wos/wos08.htm#page_329',\n",
       " 'http://www.sacred-texts.com/etc/wos/',\n",
       " '/wiki/Joseph_Fontenrose',\n",
       " '/wiki/Manly_Palmer_Hall',\n",
       " 'http://www.sacred-texts.com/eso/sta/sta14.htm',\n",
       " 'http://www.sacred-texts.com/eso/sta/index.htm',\n",
       " 'https://web.archive.org/web/20100524070656/http://prs.org/secret.htm',\n",
       " '/wiki/Jane_Ellen_Harrison',\n",
       " '/wiki/Karl_Kerenyi',\n",
       " 'https://www.lib.uchicago.edu/cgi-bin/eos/eos_page.pl?DPI=100&callnum=BL781.H32&object=454',\n",
       " 'https://www.lib.uchicago.edu/cgi-bin/eos/eos_title.pl?callnum=BL781.H32',\n",
       " 'http://mcllibrary.org/Hesiod/hymns.html',\n",
       " '/wiki/Erwin_Rohde',\n",
       " '/wiki/William_Smith_(lexicographer)',\n",
       " '/wiki/Dictionary_of_Greek_and_Roman_Biography_and_Mythology',\n",
       " 'http://www.perseus.tufts.edu/hopper/text?doc=Perseus%3Atext%3A1999.04.0104%3Aalphabetic+letter%3DP%3Aentry+group%3D52%3Aentry%3Dpython-bio-1',\n",
       " '/wiki/Help:Authority_control',\n",
       " 'https://www.wikidata.org/wiki/Q15721#identifiers',\n",
       " '/wiki/GND_(identifier)',\n",
       " 'https://d-nb.info/gnd/118793772',\n",
       " '/wiki/SUDOC_(identifier)',\n",
       " 'https://www.idref.fr/164184724',\n",
       " '/wiki/VIAF_(identifier)',\n",
       " 'https://viaf.org/viaf/54944536',\n",
       " '/wiki/WorldCat_Identities_(identifier)',\n",
       " 'https://www.worldcat.org/identities/viaf-54944536',\n",
       " 'https://en.wikipedia.org/w/index.php?title=Python_(mythology)&oldid=977398877',\n",
       " '/wiki/Help:Category',\n",
       " '/wiki/Category:Ancient_Delphi',\n",
       " '/wiki/Category:Children_of_Gaia',\n",
       " '/wiki/Category:Greek_dragons',\n",
       " '/wiki/Category:World-bearing_animals',\n",
       " '/wiki/Category:Wikipedia_articles_incorporating_a_citation_from_the_Encyclopedia_Americana_with_a_Wikisource_reference',\n",
       " '/wiki/Category:Articles_containing_Greek-language_text',\n",
       " '/wiki/Category:Commons_category_link_is_on_Wikidata',\n",
       " '/wiki/Category:Wikipedia_articles_with_GND_identifiers',\n",
       " '/wiki/Category:Wikipedia_articles_with_SUDOC_identifiers',\n",
       " '/wiki/Category:Wikipedia_articles_with_VIAF_identifiers',\n",
       " '/wiki/Category:Wikipedia_articles_with_WorldCat_identifiers',\n",
       " '/wiki/Special:MyTalk',\n",
       " '/wiki/Special:MyContributions',\n",
       " '/w/index.php?title=Special:CreateAccount&returnto=Python+%28mythology%29',\n",
       " '/w/index.php?title=Special:UserLogin&returnto=Python+%28mythology%29',\n",
       " '/wiki/Python_(mythology)',\n",
       " '/wiki/Talk:Python_(mythology)',\n",
       " '/wiki/Python_(mythology)',\n",
       " '/w/index.php?title=Python_(mythology)&action=edit',\n",
       " '/w/index.php?title=Python_(mythology)&action=history',\n",
       " '/wiki/Main_Page',\n",
       " '/wiki/Main_Page',\n",
       " '/wiki/Wikipedia:Contents',\n",
       " '/wiki/Portal:Current_events',\n",
       " '/wiki/Special:Random',\n",
       " '/wiki/Wikipedia:About',\n",
       " '//en.wikipedia.org/wiki/Wikipedia:Contact_us',\n",
       " 'https://donate.wikimedia.org/wiki/Special:FundraiserRedirector?utm_source=donate&utm_medium=sidebar&utm_campaign=C13_en.wikipedia.org&uselang=en',\n",
       " '//shop.wikimedia.org',\n",
       " '/wiki/Help:Contents',\n",
       " '/wiki/Wikipedia:Community_portal',\n",
       " '/wiki/Special:RecentChanges',\n",
       " '/wiki/Wikipedia:File_Upload_Wizard',\n",
       " '/wiki/Special:WhatLinksHere/Python_(mythology)',\n",
       " '/wiki/Special:RecentChangesLinked/Python_(mythology)',\n",
       " '/wiki/Wikipedia:File_Upload_Wizard',\n",
       " '/wiki/Special:SpecialPages',\n",
       " '/w/index.php?title=Python_(mythology)&oldid=977398877',\n",
       " '/w/index.php?title=Python_(mythology)&action=info',\n",
       " '/w/index.php?title=Special:CiteThisPage&page=Python_%28mythology%29&id=977398877&wpFormIdentifier=titleform',\n",
       " 'https://www.wikidata.org/wiki/Special:EntityPage/Q15721',\n",
       " '/w/index.php?title=Special:DownloadAsPdf&page=Python_%28mythology%29&action=show-download-screen',\n",
       " '/w/index.php?title=Python_(mythology)&printable=yes',\n",
       " 'https://commons.wikimedia.org/wiki/Category:Python_(mythology)',\n",
       " 'https://af.wikipedia.org/wiki/Piton',\n",
       " 'https://az.wikipedia.org/wiki/Pithon',\n",
       " 'https://be.wikipedia.org/wiki/%D0%9F%D1%96%D1%84%D0%BE%D0%BD',\n",
       " 'https://bg.wikipedia.org/wiki/%D0%9F%D0%B8%D1%82%D0%BE%D0%BD_(%D0%BC%D0%B8%D1%82%D0%BE%D0%BB%D0%BE%D0%B3%D0%B8%D1%8F)',\n",
       " 'https://br.wikipedia.org/wiki/Python_(aerouant)',\n",
       " 'https://ca.wikipedia.org/wiki/Pit%C3%B3_(mitologia)',\n",
       " 'https://cs.wikipedia.org/wiki/P%C3%BDth%C3%B3n',\n",
       " 'https://da.wikipedia.org/wiki/Python_(mytologi)',\n",
       " 'https://de.wikipedia.org/wiki/Python_(Mythologie)',\n",
       " 'https://et.wikipedia.org/wiki/Python',\n",
       " 'https://el.wikipedia.org/wiki/%CE%A0%CF%8D%CE%B8%CF%89%CE%BD_(%CE%BC%CF%85%CE%B8%CE%BF%CE%BB%CE%BF%CE%B3%CE%AF%CE%B1)',\n",
       " 'https://es.wikipedia.org/wiki/Pit%C3%B3n_(mitolog%C3%ADa)',\n",
       " 'https://eo.wikipedia.org/wiki/Pitono_(mitologio)',\n",
       " 'https://eu.wikipedia.org/wiki/Piton',\n",
       " 'https://fa.wikipedia.org/wiki/%D9%BE%D8%A7%DB%8C%D8%AA%D9%88%D9%86_(%D8%A7%D8%B3%D8%B7%D9%88%D8%B1%D9%87)',\n",
       " 'https://fr.wikipedia.org/wiki/Python_(mythologie)',\n",
       " 'https://gl.wikipedia.org/wiki/Pit%C3%B3n_(mitolox%C3%ADa)',\n",
       " 'https://ko.wikipedia.org/wiki/%ED%94%BC%ED%86%A4',\n",
       " 'https://hr.wikipedia.org/wiki/Piton_(mitologija)',\n",
       " 'https://id.wikipedia.org/wiki/Pithon_(mitologi)',\n",
       " 'https://it.wikipedia.org/wiki/Pitone_(mitologia)',\n",
       " 'https://la.wikipedia.org/wiki/Python_(mythologia)',\n",
       " 'https://lb.wikipedia.org/wiki/Python_(Mythologie)',\n",
       " 'https://lt.wikipedia.org/wiki/Pitonas_(mitologija)',\n",
       " 'https://hu.wikipedia.org/wiki/P%C3%BCth%C3%B3n',\n",
       " 'https://nl.wikipedia.org/wiki/Python_(mythologie)',\n",
       " 'https://ja.wikipedia.org/wiki/%E3%83%94%E3%83%A5%E3%83%BC%E3%83%88%E3%83%BC%E3%83%B3',\n",
       " 'https://no.wikipedia.org/wiki/Python_(mytologi)',\n",
       " 'https://pl.wikipedia.org/wiki/Pyton_(mitologia)',\n",
       " 'https://pt.wikipedia.org/wiki/P%C3%ADton_(mitologia)',\n",
       " 'https://ro.wikipedia.org/wiki/Python_(mitologie)',\n",
       " 'https://ru.wikipedia.org/wiki/%D0%9F%D0%B8%D1%84%D0%BE%D0%BD',\n",
       " 'https://sco.wikipedia.org/wiki/Python_(meethology)',\n",
       " 'https://sq.wikipedia.org/wiki/Pithoni',\n",
       " 'https://simple.wikipedia.org/wiki/Python_(mythology)',\n",
       " 'https://sl.wikipedia.org/wiki/Piton_(mitologija)',\n",
       " 'https://sr.wikipedia.org/wiki/%D0%9F%D0%B8%D1%82%D0%BE%D0%BD_(%D0%BC%D0%B8%D1%82%D0%BE%D0%BB%D0%BE%D0%B3%D0%B8%D1%98%D0%B0)',\n",
       " 'https://fi.wikipedia.org/wiki/Python_(hirvi%C3%B6)',\n",
       " 'https://sv.wikipedia.org/wiki/Python_(mytologi)',\n",
       " 'https://tr.wikipedia.org/wiki/Pithon',\n",
       " 'https://uk.wikipedia.org/wiki/%D0%9F%D1%96%D1%84%D0%BE%D0%BD_(%D0%BC%D1%96%D1%84%D0%BE%D0%BB%D0%BE%D0%B3%D1%96%D1%8F)',\n",
       " 'https://vi.wikipedia.org/wiki/Python_(th%E1%BA%A7n_tho%E1%BA%A1i)',\n",
       " 'https://zh.wikipedia.org/wiki/%E7%9A%AE%E5%90%8C',\n",
       " 'https://www.wikidata.org/wiki/Special:EntityPage/Q15721#sitelinks-wikipedia',\n",
       " '//en.wikipedia.org/wiki/Wikipedia:Text_of_Creative_Commons_Attribution-ShareAlike_3.0_Unported_License',\n",
       " '//creativecommons.org/licenses/by-sa/3.0/',\n",
       " '//foundation.wikimedia.org/wiki/Terms_of_Use',\n",
       " '//foundation.wikimedia.org/wiki/Privacy_policy',\n",
       " '//www.wikimediafoundation.org/',\n",
       " 'https://foundation.wikimedia.org/wiki/Privacy_policy',\n",
       " '/wiki/Wikipedia:About',\n",
       " '/wiki/Wikipedia:General_disclaimer',\n",
       " '//en.wikipedia.org/wiki/Wikipedia:Contact_us',\n",
       " '//en.m.wikipedia.org/w/index.php?title=Python_(mythology)&mobileaction=toggle_view_mobile',\n",
       " 'https://www.mediawiki.org/wiki/Special:MyLanguage/How_to_contribute',\n",
       " 'https://stats.wikimedia.org/#/en.wikipedia.org',\n",
       " 'https://foundation.wikimedia.org/wiki/Cookie_statement',\n",
       " 'https://wikimediafoundation.org/',\n",
       " 'https://www.mediawiki.org/']"
      ]
     },
     "execution_count": 292,
     "metadata": {},
     "output_type": "execute_result"
    }
   ],
   "source": [
    "soup3= BeautifulSoup(respo.text, 'html.parser')\n",
    "links = []\n",
    "for link in soup3.findAll('a'):\n",
    "    links.append(link.get('href'))\n",
    "links\n"
   ]
  },
  {
   "cell_type": "markdown",
   "metadata": {},
   "source": [
    "#### Number of Titles that have changed in the United States Code since its last release point "
   ]
  },
  {
   "cell_type": "code",
   "execution_count": null,
   "metadata": {},
   "outputs": [],
   "source": [
    "# This is the url you will scrape in this exercise\n",
    "url = 'http://uscode.house.gov/download/download.shtml'"
   ]
  },
  {
   "cell_type": "code",
   "execution_count": 295,
   "metadata": {},
   "outputs": [],
   "source": [
    "#your code\n",
    "respons = requests.get('http://uscode.house.gov/download/download.shtml')\n",
    "z = respons.text\n",
    "soup4= BeautifulSoup(respons.text, 'html.parser')\n"
   ]
  },
  {
   "cell_type": "code",
   "execution_count": 320,
   "metadata": {},
   "outputs": [
    {
     "data": {
      "text/plain": [
       "3"
      ]
     },
     "execution_count": 320,
     "metadata": {},
     "output_type": "execute_result"
    }
   ],
   "source": [
    "changed = []\n",
    "for change in soup4.findAll('div'):\n",
    "    changed.append(change.get('class'))\n",
    "changed.count(['usctitlechanged'])"
   ]
  },
  {
   "cell_type": "markdown",
   "metadata": {},
   "source": [
    "#### A Python list with the top ten FBI's Most Wanted names "
   ]
  },
  {
   "cell_type": "code",
   "execution_count": null,
   "metadata": {},
   "outputs": [],
   "source": [
    "# This is the url you will scrape in this exercise\n",
    "url = 'https://www.fbi.gov/wanted/topten'"
   ]
  },
  {
   "cell_type": "code",
   "execution_count": 321,
   "metadata": {},
   "outputs": [],
   "source": [
    "#your code \n",
    "cansancio = requests.get(\"https://www.fbi.gov/wanted/topten\")\n",
    "x = cansancio.text"
   ]
  },
  {
   "cell_type": "code",
   "execution_count": 372,
   "metadata": {},
   "outputs": [
    {
     "data": {
      "text/plain": [
       "['ARNOLDO',\n",
       " 'JIMENEZ',\n",
       " 'JASON',\n",
       " 'DEREK',\n",
       " 'BROWN',\n",
       " 'YASER',\n",
       " 'ABDEL',\n",
       " 'SAID',\n",
       " 'ALEXIS',\n",
       " 'FLORES',\n",
       " 'EUGENE',\n",
       " 'PALMER',\n",
       " 'RAFAEL',\n",
       " 'CARO',\n",
       " 'QUINTERO',\n",
       " 'ROBERT',\n",
       " 'WILLIAM',\n",
       " 'FISHER',\n",
       " 'BHADRESHKUMAR',\n",
       " 'CHETANBHAI',\n",
       " 'PATEL',\n",
       " 'ALEJANDRO',\n",
       " 'ROSALES',\n",
       " 'CASTILLO',\n",
       " 'SANTIAGO',\n",
       " 'VILLALBA',\n",
       " 'MEDEROS']"
      ]
     },
     "execution_count": 372,
     "metadata": {},
     "output_type": "execute_result"
    }
   ],
   "source": [
    "soup5= BeautifulSoup(cansancio.text, 'html.parser')\n",
    "tastysoup = soup5.find_all(\"h3\")\n",
    "conv = re.findall(r\"[A-Z]+\",str(tastysoup))\n",
    "conv\n",
    "\n",
    "#re.findall(r\"[>][A-Z]+[<]\",str(tastysoup)), He conseguido la lista de nombres, pero me estoy volviendo \n",
    "# loco con el regex y la cabeza no da pa mas..."
   ]
  },
  {
   "cell_type": "markdown",
   "metadata": {},
   "source": [
    "####  20 latest earthquakes info (date, time, latitude, longitude and region name) by the EMSC as a pandas dataframe"
   ]
  },
  {
   "cell_type": "code",
   "execution_count": null,
   "metadata": {},
   "outputs": [],
   "source": [
    "# This is the url you will scrape in this exercise\n",
    "url = 'https://www.emsc-csem.org/Earthquake/'"
   ]
  },
  {
   "cell_type": "code",
   "execution_count": null,
   "metadata": {},
   "outputs": [],
   "source": [
    "#your code"
   ]
  },
  {
   "cell_type": "markdown",
   "metadata": {},
   "source": [
    "#### Display the date, days, title, city, country of next 25 hackathon events as a Pandas dataframe table"
   ]
  },
  {
   "cell_type": "code",
   "execution_count": null,
   "metadata": {},
   "outputs": [],
   "source": [
    "# This is the url you will scrape in this exercise\n",
    "url ='https://hackevents.co/hackathons'"
   ]
  },
  {
   "cell_type": "code",
   "execution_count": null,
   "metadata": {},
   "outputs": [],
   "source": [
    "#your code"
   ]
  },
  {
   "cell_type": "markdown",
   "metadata": {},
   "source": [
    "#### Count number of tweets by a given Twitter account."
   ]
  },
  {
   "cell_type": "markdown",
   "metadata": {},
   "source": [
    "You will need to include a ***try/except block*** for account names not found. \n",
    "<br>***Hint:*** the program should count the number of tweets for any provided account"
   ]
  },
  {
   "cell_type": "code",
   "execution_count": null,
   "metadata": {},
   "outputs": [],
   "source": [
    "# This is the url you will scrape in this exercise \n",
    "# You will need to add the account credentials to this url\n",
    "url = 'https://twitter.com/'"
   ]
  },
  {
   "cell_type": "code",
   "execution_count": null,
   "metadata": {},
   "outputs": [],
   "source": [
    "#your code"
   ]
  },
  {
   "cell_type": "markdown",
   "metadata": {},
   "source": [
    "#### Number of followers of a given twitter account"
   ]
  },
  {
   "cell_type": "markdown",
   "metadata": {},
   "source": [
    "You will need to include a ***try/except block*** in case account/s name not found. \n",
    "<br>***Hint:*** the program should count the followers for any provided account"
   ]
  },
  {
   "cell_type": "code",
   "execution_count": null,
   "metadata": {},
   "outputs": [],
   "source": [
    "# This is the url you will scrape in this exercise \n",
    "# You will need to add the account credentials to this url\n",
    "url = 'https://twitter.com/'"
   ]
  },
  {
   "cell_type": "code",
   "execution_count": null,
   "metadata": {},
   "outputs": [],
   "source": [
    "#your code"
   ]
  },
  {
   "cell_type": "markdown",
   "metadata": {},
   "source": [
    "#### List all language names and number of related articles in the order they appear in wikipedia.org"
   ]
  },
  {
   "cell_type": "code",
   "execution_count": null,
   "metadata": {},
   "outputs": [],
   "source": [
    "# This is the url you will scrape in this exercise\n",
    "url = 'https://www.wikipedia.org/'"
   ]
  },
  {
   "cell_type": "code",
   "execution_count": null,
   "metadata": {},
   "outputs": [],
   "source": [
    "#your code"
   ]
  },
  {
   "cell_type": "markdown",
   "metadata": {},
   "source": [
    "#### A list with the different kind of datasets available in data.gov.uk "
   ]
  },
  {
   "cell_type": "code",
   "execution_count": null,
   "metadata": {},
   "outputs": [],
   "source": [
    "# This is the url you will scrape in this exercise\n",
    "url = 'https://data.gov.uk/'"
   ]
  },
  {
   "cell_type": "code",
   "execution_count": null,
   "metadata": {},
   "outputs": [],
   "source": [
    "#your code "
   ]
  },
  {
   "cell_type": "markdown",
   "metadata": {},
   "source": [
    "#### Top 10 languages by number of native speakers stored in a Pandas Dataframe"
   ]
  },
  {
   "cell_type": "code",
   "execution_count": null,
   "metadata": {},
   "outputs": [],
   "source": [
    "# This is the url you will scrape in this exercise\n",
    "url = 'https://en.wikipedia.org/wiki/List_of_languages_by_number_of_native_speakers'"
   ]
  },
  {
   "cell_type": "code",
   "execution_count": null,
   "metadata": {},
   "outputs": [],
   "source": [
    "#your code"
   ]
  },
  {
   "cell_type": "markdown",
   "metadata": {},
   "source": [
    "### BONUS QUESTIONS"
   ]
  },
  {
   "cell_type": "markdown",
   "metadata": {},
   "source": [
    "#### Scrape a certain number of tweets of a given Twitter account."
   ]
  },
  {
   "cell_type": "code",
   "execution_count": null,
   "metadata": {},
   "outputs": [],
   "source": [
    "# This is the url you will scrape in this exercise \n",
    "# You will need to add the account credentials to this url\n",
    "url = 'https://twitter.com/'"
   ]
  },
  {
   "cell_type": "code",
   "execution_count": null,
   "metadata": {},
   "outputs": [],
   "source": [
    "# your code"
   ]
  },
  {
   "cell_type": "markdown",
   "metadata": {},
   "source": [
    "#### IMDB's Top 250 data (movie name, Initial release, director name and stars) as a pandas dataframe"
   ]
  },
  {
   "cell_type": "code",
   "execution_count": null,
   "metadata": {},
   "outputs": [],
   "source": [
    "# This is the url you will scrape in this exercise \n",
    "url = 'https://www.imdb.com/chart/top'"
   ]
  },
  {
   "cell_type": "code",
   "execution_count": null,
   "metadata": {},
   "outputs": [],
   "source": [
    "# your code"
   ]
  },
  {
   "cell_type": "markdown",
   "metadata": {},
   "source": [
    "#### Movie name, year and a brief summary of the top 10 random movies (IMDB) as a pandas dataframe."
   ]
  },
  {
   "cell_type": "code",
   "execution_count": null,
   "metadata": {},
   "outputs": [],
   "source": [
    "#This is the url you will scrape in this exercise\n",
    "url = 'http://www.imdb.com/chart/top'"
   ]
  },
  {
   "cell_type": "code",
   "execution_count": null,
   "metadata": {},
   "outputs": [],
   "source": [
    "#your code"
   ]
  },
  {
   "cell_type": "markdown",
   "metadata": {},
   "source": [
    "#### Find the live weather report (temperature, wind speed, description and weather) of a given city."
   ]
  },
  {
   "cell_type": "code",
   "execution_count": null,
   "metadata": {},
   "outputs": [],
   "source": [
    "#https://openweathermap.org/current\n",
    "city = city=input('Enter the city:')\n",
    "url = 'http://api.openweathermap.org/data/2.5/weather?'+'q='+city+'&APPID=b35975e18dc93725acb092f7272cc6b8&units=metric'"
   ]
  },
  {
   "cell_type": "code",
   "execution_count": null,
   "metadata": {},
   "outputs": [],
   "source": [
    "# your code"
   ]
  },
  {
   "cell_type": "markdown",
   "metadata": {},
   "source": [
    "#### Book name,price and stock availability as a pandas dataframe."
   ]
  },
  {
   "cell_type": "code",
   "execution_count": null,
   "metadata": {},
   "outputs": [],
   "source": [
    "# This is the url you will scrape in this exercise. \n",
    "# It is a fictional bookstore created to be scraped. \n",
    "url = 'http://books.toscrape.com/'"
   ]
  },
  {
   "cell_type": "code",
   "execution_count": null,
   "metadata": {},
   "outputs": [],
   "source": [
    "#your code"
   ]
  }
 ],
 "metadata": {
  "kernelspec": {
   "display_name": "Python 3",
   "language": "python",
   "name": "python3"
  },
  "language_info": {
   "codemirror_mode": {
    "name": "ipython",
    "version": 3
   },
   "file_extension": ".py",
   "mimetype": "text/x-python",
   "name": "python",
   "nbconvert_exporter": "python",
   "pygments_lexer": "ipython3",
   "version": "3.8.5"
  }
 },
 "nbformat": 4,
 "nbformat_minor": 2
}

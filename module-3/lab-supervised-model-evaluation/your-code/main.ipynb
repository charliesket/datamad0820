{
 "cells": [
  {
   "cell_type": "markdown",
   "metadata": {},
   "source": [
    "# Supervised Learning Model Evaluation Lab\n",
    "\n",
    "Complete the exercises below to solidify your knowledge and understanding of supervised learning model evaluation."
   ]
  },
  {
   "cell_type": "code",
   "execution_count": 1,
   "metadata": {},
   "outputs": [],
   "source": [
    "import pandas as pd"
   ]
  },
  {
   "cell_type": "markdown",
   "metadata": {},
   "source": [
    "## Regression Model Evaluation"
   ]
  },
  {
   "cell_type": "code",
   "execution_count": 2,
   "metadata": {},
   "outputs": [],
   "source": [
    "from sklearn.datasets import load_boston\n",
    "\n",
    "data = load_boston()\n",
    "\n",
    "X = pd.DataFrame(data[\"data\"], columns=data[\"feature_names\"])\n",
    "y = pd.DataFrame(data[\"target\"], columns=['MEDV'])\n",
    "\n",
    "data = pd.concat([X, y], axis=1)"
   ]
  },
  {
   "cell_type": "markdown",
   "metadata": {},
   "source": [
    "## 1. Split this data set into training (80%) and testing (20%) sets.\n",
    "\n",
    "The `MEDV` field represents the median value of owner-occupied homes (in $1000's) and is the target variable that we will want to predict."
   ]
  },
  {
   "cell_type": "code",
   "execution_count": 3,
   "metadata": {},
   "outputs": [],
   "source": [
    "from sklearn.model_selection import train_test_split\n",
    "\n",
    "X_train, X_test, y_train, y_test = train_test_split(X, y, test_size=0.2)"
   ]
  },
  {
   "cell_type": "markdown",
   "metadata": {},
   "source": [
    "## 2. Train a `LinearRegression` model on this data set and generate predictions on both the training and the testing set."
   ]
  },
  {
   "cell_type": "code",
   "execution_count": 4,
   "metadata": {},
   "outputs": [
    {
     "data": {
      "text/plain": [
       "LinearRegression()"
      ]
     },
     "execution_count": 4,
     "metadata": {},
     "output_type": "execute_result"
    }
   ],
   "source": [
    "from sklearn.linear_model import LinearRegression\n",
    "\n",
    "model = LinearRegression()\n",
    "\n",
    "model.fit(X_train, y_train)"
   ]
  },
  {
   "cell_type": "code",
   "execution_count": 5,
   "metadata": {
    "scrolled": true
   },
   "outputs": [
    {
     "name": "stdout",
     "output_type": "stream",
     "text": [
      "[[18.90073143]\n",
      " [12.05020948]\n",
      " [28.48092307]\n",
      " [27.69821925]\n",
      " [12.40363339]\n",
      " [24.94712041]\n",
      " [32.35724563]\n",
      " [39.25842449]\n",
      " [34.59022343]\n",
      " [18.04155013]\n",
      " [23.10483814]\n",
      " [18.83455533]\n",
      " [20.66570607]\n",
      " [14.99428705]\n",
      " [21.50660214]\n",
      " [13.58036308]\n",
      " [16.6309454 ]\n",
      " [33.22786415]\n",
      " [ 9.73030322]\n",
      " [30.89648652]\n",
      " [17.51740843]\n",
      " [ 9.26945205]\n",
      " [ 1.16718911]\n",
      " [21.14436161]\n",
      " [28.68458436]\n",
      " [13.33037915]\n",
      " [17.73316233]\n",
      " [22.39929876]\n",
      " [13.53927831]\n",
      " [16.61375545]\n",
      " [31.22322108]\n",
      " [19.0671092 ]\n",
      " [32.89044055]\n",
      " [16.24565016]\n",
      " [20.54423195]\n",
      " [30.43185639]\n",
      " [17.72083278]\n",
      " [23.33470597]\n",
      " [ 5.35866831]\n",
      " [15.6435206 ]\n",
      " [34.33830087]\n",
      " [28.70827115]\n",
      " [21.40544938]\n",
      " [21.06556352]\n",
      " [25.1887113 ]\n",
      " [30.43505498]\n",
      " [ 8.57717225]\n",
      " [22.70015293]\n",
      " [40.67022181]\n",
      " [19.2079081 ]\n",
      " [39.22206488]\n",
      " [22.30766926]\n",
      " [40.96467792]\n",
      " [24.34136992]\n",
      " [27.71134309]\n",
      " [22.37269091]\n",
      " [19.20238496]\n",
      " [26.16962161]\n",
      " [18.97012937]\n",
      " [23.66868395]\n",
      " [16.17875623]\n",
      " [21.71129816]\n",
      " [36.20501348]\n",
      " [16.86981572]\n",
      " [17.25371511]\n",
      " [19.86787749]\n",
      " [32.93204974]\n",
      " [15.06136071]\n",
      " [24.38268012]\n",
      " [25.36066142]\n",
      " [32.83885062]\n",
      " [31.65332355]\n",
      " [33.41989105]\n",
      " [13.74713096]\n",
      " [18.23415919]\n",
      " [15.5125813 ]\n",
      " [27.02352099]\n",
      " [17.73993094]\n",
      " [ 5.81743881]\n",
      " [24.5999913 ]\n",
      " [ 6.69891052]\n",
      " [24.54233822]\n",
      " [15.40542712]\n",
      " [25.30198439]\n",
      " [21.19128575]\n",
      " [22.75499992]\n",
      " [19.5155216 ]\n",
      " [ 5.62785994]\n",
      " [27.34385561]\n",
      " [14.31664377]\n",
      " [23.07520435]\n",
      " [23.56932603]\n",
      " [25.05257227]\n",
      " [15.14535448]\n",
      " [17.32228311]\n",
      " [28.21124802]\n",
      " [13.72433853]\n",
      " [17.30237449]\n",
      " [34.54212649]\n",
      " [30.22902665]\n",
      " [14.89364012]\n",
      " [15.54545499]]\n"
     ]
    }
   ],
   "source": [
    "y_pred_test = model.predict(X_test)\n",
    "print(y_pred_test)"
   ]
  },
  {
   "cell_type": "code",
   "execution_count": 6,
   "metadata": {},
   "outputs": [
    {
     "name": "stdout",
     "output_type": "stream",
     "text": [
      "[[18.45559632]\n",
      " [22.02086127]\n",
      " [12.77227568]\n",
      " [25.2792404 ]\n",
      " [20.9217089 ]\n",
      " [18.38800111]\n",
      " [42.30426476]\n",
      " [13.08187524]\n",
      " [16.28220863]\n",
      " [21.03473378]\n",
      " [22.91533676]\n",
      " [33.21112053]\n",
      " [20.28153357]\n",
      " [28.49620475]\n",
      " [24.29294537]\n",
      " [16.84108154]\n",
      " [21.10058631]\n",
      " [13.64637786]\n",
      " [26.96104975]\n",
      " [12.17793333]\n",
      " [18.72348597]\n",
      " [25.99774482]\n",
      " [16.8149829 ]\n",
      " [ 8.66934992]\n",
      " [11.01681032]\n",
      " [22.33133783]\n",
      " [ 8.51329959]\n",
      " [15.75809709]\n",
      " [27.47834121]\n",
      " [18.20984914]\n",
      " [10.90567625]\n",
      " [21.62909725]\n",
      " [37.75690207]\n",
      " [32.70978463]\n",
      " [35.04486502]\n",
      " [14.00701023]\n",
      " [30.58158024]\n",
      " [17.65229069]\n",
      " [24.67656243]\n",
      " [25.59628893]\n",
      " [15.84052414]\n",
      " [11.13516431]\n",
      " [20.74512715]\n",
      " [29.05254539]\n",
      " [20.17316876]\n",
      " [15.27399866]\n",
      " [14.44752182]\n",
      " [20.61117108]\n",
      " [19.62345771]\n",
      " [19.36675855]\n",
      " [28.12212822]\n",
      " [19.96576372]\n",
      " [22.82208666]\n",
      " [23.28180578]\n",
      " [28.44122014]\n",
      " [20.43620275]\n",
      " [ 7.4725163 ]\n",
      " [33.2699554 ]\n",
      " [37.16873965]\n",
      " [ 9.29130096]\n",
      " [30.57420967]\n",
      " [33.15611109]\n",
      " [20.47933698]\n",
      " [11.12616296]\n",
      " [28.25613463]\n",
      " [16.68985244]\n",
      " [23.13390502]\n",
      " [28.40995858]\n",
      " [26.78366283]\n",
      " [17.18531963]\n",
      " [31.75884366]\n",
      " [30.16363945]\n",
      " [43.49056837]\n",
      " [30.25981107]\n",
      " [25.57766611]\n",
      " [18.26068807]\n",
      " [26.04749919]\n",
      " [15.8905615 ]\n",
      " [34.74942592]\n",
      " [16.82306938]\n",
      " [19.6857808 ]\n",
      " [ 8.37418022]\n",
      " [24.46724934]\n",
      " [17.93847059]\n",
      " [21.84651909]\n",
      " [ 6.28212983]\n",
      " [35.73524223]\n",
      " [19.0071788 ]\n",
      " [15.39762966]\n",
      " [17.00095794]\n",
      " [ 0.04418557]\n",
      " [13.07201277]\n",
      " [20.14319054]\n",
      " [32.37352246]\n",
      " [22.08781258]\n",
      " [24.7899648 ]\n",
      " [20.56508302]\n",
      " [25.13963386]\n",
      " [24.60763096]\n",
      " [24.24988322]\n",
      " [21.77821714]\n",
      " [32.35055265]\n",
      " [24.76824484]\n",
      " [28.42017237]\n",
      " [25.3820414 ]\n",
      " [40.76091965]\n",
      " [20.67062287]\n",
      " [24.26648536]\n",
      " [ 8.4491825 ]\n",
      " [18.07679543]\n",
      " [20.065633  ]\n",
      " [16.21917648]\n",
      " [39.62057339]\n",
      " [21.32202844]\n",
      " [19.38088752]\n",
      " [26.5202966 ]\n",
      " [16.0080173 ]\n",
      " [20.11379712]\n",
      " [25.3105767 ]\n",
      " [17.23179058]\n",
      " [38.01787922]\n",
      " [26.27538507]\n",
      " [13.86717926]\n",
      " [25.75610191]\n",
      " [25.06460055]\n",
      " [33.86057667]\n",
      " [11.82615766]\n",
      " [24.09098412]\n",
      " [17.47549424]\n",
      " [20.62481984]\n",
      " [ 7.48557309]\n",
      " [16.23550019]\n",
      " [18.09755092]\n",
      " [22.37307989]\n",
      " [13.95874513]\n",
      " [15.45633987]\n",
      " [18.59221071]\n",
      " [29.79582953]\n",
      " [18.13643017]\n",
      " [19.18698634]\n",
      " [23.20516786]\n",
      " [18.65555667]\n",
      " [19.62845792]\n",
      " [17.26223508]\n",
      " [23.61568108]\n",
      " [14.39641691]\n",
      " [24.85006867]\n",
      " [17.44167001]\n",
      " [28.3971125 ]\n",
      " [30.78396313]\n",
      " [12.54679109]\n",
      " [ 3.77654082]\n",
      " [40.99364526]\n",
      " [21.01926543]\n",
      " [16.35232447]\n",
      " [25.32343152]\n",
      " [12.3821421 ]\n",
      " [28.4277303 ]\n",
      " [20.24560941]\n",
      " [15.73042275]\n",
      " [21.03794179]\n",
      " [19.06356834]\n",
      " [30.64694687]\n",
      " [27.99600042]\n",
      " [20.26292666]\n",
      " [25.19475033]\n",
      " [19.43003301]\n",
      " [12.79748119]\n",
      " [ 8.14040147]\n",
      " [22.10165955]\n",
      " [22.79155292]\n",
      " [13.70324694]\n",
      " [17.99617097]\n",
      " [31.17236894]\n",
      " [18.52685052]\n",
      " [30.76713306]\n",
      " [31.73591893]\n",
      " [23.68826373]\n",
      " [18.85014867]\n",
      " [20.65321603]\n",
      " [20.55744627]\n",
      " [17.69013816]\n",
      " [24.03283911]\n",
      " [13.68127201]\n",
      " [22.69030666]\n",
      " [34.10492498]\n",
      " [12.61083466]\n",
      " [29.36191299]\n",
      " [21.19350925]\n",
      " [32.07834927]\n",
      " [37.38917524]\n",
      " [14.57491491]\n",
      " [26.56864122]\n",
      " [31.4408187 ]\n",
      " [23.45285031]\n",
      " [17.59781051]\n",
      " [21.40532064]\n",
      " [24.90881673]\n",
      " [17.47475228]\n",
      " [34.59774184]\n",
      " [24.69438821]\n",
      " [32.38657002]\n",
      " [18.94578302]\n",
      " [33.76213289]\n",
      " [17.591733  ]\n",
      " [44.09635471]\n",
      " [11.4290745 ]\n",
      " [24.12476327]\n",
      " [24.68933814]\n",
      " [36.77087466]\n",
      " [30.54942082]\n",
      " [17.32263251]\n",
      " [16.84601383]\n",
      " [19.09074293]\n",
      " [23.47791146]\n",
      " [21.64765451]\n",
      " [12.66567472]\n",
      " [19.90536008]\n",
      " [34.74548768]\n",
      " [ 5.16185705]\n",
      " [27.08513411]\n",
      " [10.82552619]\n",
      " [22.93617424]\n",
      " [31.70221056]\n",
      " [28.53008469]\n",
      " [20.85693057]\n",
      " [24.99385128]\n",
      " [16.56420203]\n",
      " [21.898009  ]\n",
      " [31.95556367]\n",
      " [36.11490027]\n",
      " [25.59767051]\n",
      " [27.72740535]\n",
      " [18.43732364]\n",
      " [30.50814795]\n",
      " [19.97288061]\n",
      " [ 3.53619745]\n",
      " [13.09445467]\n",
      " [19.18207888]\n",
      " [19.72944851]\n",
      " [12.15194091]\n",
      " [24.64159817]\n",
      " [28.05022624]\n",
      " [30.4108836 ]\n",
      " [14.65175183]\n",
      " [11.48069822]\n",
      " [ 2.80579553]\n",
      " [28.3294853 ]\n",
      " [43.12997129]\n",
      " [24.10642145]\n",
      " [26.70921778]\n",
      " [31.00890633]\n",
      " [22.32715678]\n",
      " [35.1670031 ]\n",
      " [22.22808084]\n",
      " [29.16486599]\n",
      " [20.0155527 ]\n",
      " [22.05494428]\n",
      " [24.31443834]\n",
      " [ 4.58419904]\n",
      " [38.50953502]\n",
      " [23.33032329]\n",
      " [-4.37067516]\n",
      " [10.28785669]\n",
      " [21.04958863]\n",
      " [ 9.63989479]\n",
      " [20.3549408 ]\n",
      " [16.03347038]\n",
      " [15.72481162]\n",
      " [35.45027972]\n",
      " [27.02564148]\n",
      " [27.38652232]\n",
      " [28.84398474]\n",
      " [27.24742048]\n",
      " [14.30955499]\n",
      " [19.26508288]\n",
      " [13.29711646]\n",
      " [27.40416523]\n",
      " [15.05633565]\n",
      " [31.95636802]\n",
      " [18.31832735]\n",
      " [18.52310759]\n",
      " [22.21971515]\n",
      " [24.14263152]\n",
      " [19.97857173]\n",
      " [20.95540618]\n",
      " [11.72046791]\n",
      " [22.00319574]\n",
      " [32.16618932]\n",
      " [23.61415346]\n",
      " [22.1704175 ]\n",
      " [19.68069946]\n",
      " [13.36070264]\n",
      " [12.90329854]\n",
      " [25.88960614]\n",
      " [29.24421369]\n",
      " [25.55308684]\n",
      " [19.46091992]\n",
      " [16.90221734]\n",
      " [26.10367684]\n",
      " [34.41247822]\n",
      " [22.20247836]\n",
      " [13.88202146]\n",
      " [25.65969057]\n",
      " [24.71508506]\n",
      " [36.39700548]\n",
      " [17.5010285 ]\n",
      " [22.95434888]\n",
      " [28.76170408]\n",
      " [18.02539208]\n",
      " [37.78563924]\n",
      " [19.37128289]\n",
      " [22.59874564]\n",
      " [34.73654217]\n",
      " [22.10291255]\n",
      " [31.91909794]\n",
      " [24.10551659]\n",
      " [25.26363365]\n",
      " [21.95379807]\n",
      " [16.73701093]\n",
      " [19.41176103]\n",
      " [30.43788447]\n",
      " [28.86149394]\n",
      " [24.99545378]\n",
      " [22.23947124]\n",
      " [30.98961706]\n",
      " [36.87562703]\n",
      " [12.40609694]\n",
      " [19.45439991]\n",
      " [20.47414637]\n",
      " [18.19520553]\n",
      " [30.22812771]\n",
      " [23.03720852]\n",
      " [34.61521668]\n",
      " [23.84349618]\n",
      " [24.72652827]\n",
      " [14.02644228]\n",
      " [19.77775779]\n",
      " [37.1884754 ]\n",
      " [35.50891575]\n",
      " [19.99864994]\n",
      " [22.66250289]\n",
      " [22.67706639]\n",
      " [25.53181265]\n",
      " [20.68617796]\n",
      " [23.83795675]\n",
      " [21.18524093]\n",
      " [17.66505629]\n",
      " [21.70639328]\n",
      " [36.88356953]\n",
      " [27.63195158]\n",
      " [15.36227352]\n",
      " [30.45438005]\n",
      " [33.12462012]\n",
      " [27.0092458 ]\n",
      " [19.87150209]\n",
      " [27.53140624]\n",
      " [20.97048907]\n",
      " [29.32124719]\n",
      " [21.88860594]\n",
      " [20.46326297]\n",
      " [27.60586659]\n",
      " [19.40107962]\n",
      " [22.41062221]\n",
      " [16.74700358]\n",
      " [10.42525561]\n",
      " [35.27413491]\n",
      " [12.69245881]\n",
      " [32.67482267]\n",
      " [15.09926504]\n",
      " [34.08804932]\n",
      " [22.31597634]\n",
      " [19.33243354]\n",
      " [15.68131536]\n",
      " [34.16991211]\n",
      " [24.19304954]\n",
      " [26.95476882]\n",
      " [20.2417317 ]\n",
      " [16.42449777]\n",
      " [16.41161187]\n",
      " [20.91359999]\n",
      " [16.57356618]\n",
      " [16.93813482]\n",
      " [ 7.32418152]\n",
      " [23.66988986]\n",
      " [22.24221862]\n",
      " [35.49914784]\n",
      " [18.9092856 ]\n",
      " [39.46056487]\n",
      " [ 8.46796102]\n",
      " [28.72402634]\n",
      " [24.00724907]\n",
      " [21.05952164]\n",
      " [26.82872322]\n",
      " [15.44660672]\n",
      " [12.96049328]\n",
      " [14.38376149]\n",
      " [21.08218495]\n",
      " [21.92002357]\n",
      " [35.32968845]\n",
      " [14.4968319 ]\n",
      " [18.07169793]\n",
      " [ 6.677171  ]\n",
      " [19.0287834 ]]\n"
     ]
    }
   ],
   "source": [
    "y_pred_train = model.predict(X_train)\n",
    "print(y_pred_train)"
   ]
  },
  {
   "cell_type": "markdown",
   "metadata": {},
   "source": [
    "## 3. Calculate and print R-squared for both the training and the testing set."
   ]
  },
  {
   "cell_type": "code",
   "execution_count": 7,
   "metadata": {},
   "outputs": [
    {
     "name": "stdout",
     "output_type": "stream",
     "text": [
      "r2 score y_pred_train = 0.66\n",
      "r2 score y_pred_test = 0.61\n"
     ]
    }
   ],
   "source": [
    "from sklearn.metrics import r2_score\n",
    "print(f\"r2 score y_pred_train = {r2_score(y_pred_train, y_train):.2f}\")\n",
    "print(f\"r2 score y_pred_test = {r2_score(y_pred_test, y_test):.2f}\")"
   ]
  },
  {
   "cell_type": "markdown",
   "metadata": {},
   "source": [
    "## 4. Calculate and print mean squared error for both the training and the testing set."
   ]
  },
  {
   "cell_type": "code",
   "execution_count": 8,
   "metadata": {},
   "outputs": [
    {
     "name": "stdout",
     "output_type": "stream",
     "text": [
      "MSE for train set = 21.02\n",
      "MSE for test set = 26.31\n"
     ]
    }
   ],
   "source": [
    "from sklearn.metrics import mean_squared_error\n",
    "print(f\"MSE for train set = {mean_squared_error(y_pred_train,y_train):.2f}\")\n",
    "print(f\"MSE for test set = {mean_squared_error(y_pred_test,y_test):.2f}\")"
   ]
  },
  {
   "cell_type": "markdown",
   "metadata": {},
   "source": [
    "## 5. Calculate and print mean absolute error for both the training and the testing set."
   ]
  },
  {
   "cell_type": "code",
   "execution_count": 9,
   "metadata": {},
   "outputs": [
    {
     "name": "stdout",
     "output_type": "stream",
     "text": [
      "MAE for train set = 3.18\n",
      "MAE for test set = 3.40\n"
     ]
    }
   ],
   "source": [
    "from sklearn.metrics import mean_absolute_error\n",
    "print(f\"MAE for train set = {mean_absolute_error(y_pred_train,y_train):.2f}\")\n",
    "print(f\"MAE for test set = {mean_absolute_error(y_pred_test,y_test):.2f}\")\n"
   ]
  },
  {
   "cell_type": "markdown",
   "metadata": {},
   "source": [
    "## Classification Model Evaluation"
   ]
  },
  {
   "cell_type": "code",
   "execution_count": 10,
   "metadata": {},
   "outputs": [],
   "source": [
    "from sklearn.datasets import load_iris\n",
    "\n",
    "data = load_iris()\n",
    "\n",
    "X = pd.DataFrame(data[\"data\"], columns=data[\"feature_names\"])\n",
    "y = pd.DataFrame(data[\"target\"], columns=[\"class\"])\n",
    "\n",
    "data1 = pd.concat([X, y], axis=1)"
   ]
  },
  {
   "cell_type": "code",
   "execution_count": 11,
   "metadata": {},
   "outputs": [
    {
     "data": {
      "text/html": [
       "<div>\n",
       "<style scoped>\n",
       "    .dataframe tbody tr th:only-of-type {\n",
       "        vertical-align: middle;\n",
       "    }\n",
       "\n",
       "    .dataframe tbody tr th {\n",
       "        vertical-align: top;\n",
       "    }\n",
       "\n",
       "    .dataframe thead th {\n",
       "        text-align: right;\n",
       "    }\n",
       "</style>\n",
       "<table border=\"1\" class=\"dataframe\">\n",
       "  <thead>\n",
       "    <tr style=\"text-align: right;\">\n",
       "      <th></th>\n",
       "      <th>sepal length (cm)</th>\n",
       "      <th>sepal width (cm)</th>\n",
       "      <th>petal length (cm)</th>\n",
       "      <th>petal width (cm)</th>\n",
       "      <th>class</th>\n",
       "    </tr>\n",
       "  </thead>\n",
       "  <tbody>\n",
       "    <tr>\n",
       "      <th>0</th>\n",
       "      <td>5.1</td>\n",
       "      <td>3.5</td>\n",
       "      <td>1.4</td>\n",
       "      <td>0.2</td>\n",
       "      <td>0</td>\n",
       "    </tr>\n",
       "    <tr>\n",
       "      <th>1</th>\n",
       "      <td>4.9</td>\n",
       "      <td>3.0</td>\n",
       "      <td>1.4</td>\n",
       "      <td>0.2</td>\n",
       "      <td>0</td>\n",
       "    </tr>\n",
       "    <tr>\n",
       "      <th>2</th>\n",
       "      <td>4.7</td>\n",
       "      <td>3.2</td>\n",
       "      <td>1.3</td>\n",
       "      <td>0.2</td>\n",
       "      <td>0</td>\n",
       "    </tr>\n",
       "    <tr>\n",
       "      <th>3</th>\n",
       "      <td>4.6</td>\n",
       "      <td>3.1</td>\n",
       "      <td>1.5</td>\n",
       "      <td>0.2</td>\n",
       "      <td>0</td>\n",
       "    </tr>\n",
       "    <tr>\n",
       "      <th>4</th>\n",
       "      <td>5.0</td>\n",
       "      <td>3.6</td>\n",
       "      <td>1.4</td>\n",
       "      <td>0.2</td>\n",
       "      <td>0</td>\n",
       "    </tr>\n",
       "  </tbody>\n",
       "</table>\n",
       "</div>"
      ],
      "text/plain": [
       "   sepal length (cm)  sepal width (cm)  petal length (cm)  petal width (cm)  \\\n",
       "0                5.1               3.5                1.4               0.2   \n",
       "1                4.9               3.0                1.4               0.2   \n",
       "2                4.7               3.2                1.3               0.2   \n",
       "3                4.6               3.1                1.5               0.2   \n",
       "4                5.0               3.6                1.4               0.2   \n",
       "\n",
       "   class  \n",
       "0      0  \n",
       "1      0  \n",
       "2      0  \n",
       "3      0  \n",
       "4      0  "
      ]
     },
     "execution_count": 11,
     "metadata": {},
     "output_type": "execute_result"
    }
   ],
   "source": [
    "data1.head()"
   ]
  },
  {
   "cell_type": "markdown",
   "metadata": {},
   "source": [
    "## 6. Split this data set into training (80%) and testing (20%) sets.\n",
    "\n",
    "The `class` field represents the type of flower and is the target variable that we will want to predict."
   ]
  },
  {
   "cell_type": "code",
   "execution_count": 38,
   "metadata": {},
   "outputs": [],
   "source": [
    "X_train1, X_test1, y_train1, y_test1 = train_test_split(X, y, test_size=0.2)"
   ]
  },
  {
   "cell_type": "markdown",
   "metadata": {},
   "source": [
    "## 7. Train a `LogisticRegression` model on this data set and generate predictions on both the training and the testing set."
   ]
  },
  {
   "cell_type": "code",
   "execution_count": 39,
   "metadata": {},
   "outputs": [
    {
     "name": "stderr",
     "output_type": "stream",
     "text": [
      "/usr/local/lib/python3.8/site-packages/sklearn/utils/validation.py:72: DataConversionWarning: A column-vector y was passed when a 1d array was expected. Please change the shape of y to (n_samples, ), for example using ravel().\n",
      "  return f(**kwargs)\n"
     ]
    },
    {
     "data": {
      "text/plain": [
       "LogisticRegression()"
      ]
     },
     "execution_count": 39,
     "metadata": {},
     "output_type": "execute_result"
    }
   ],
   "source": [
    "from sklearn.linear_model import LogisticRegression\n",
    "petal_model = LogisticRegression()\n",
    "petal_model.fit(X_train1,y_train1)\n"
   ]
  },
  {
   "cell_type": "code",
   "execution_count": 40,
   "metadata": {},
   "outputs": [
    {
     "name": "stdout",
     "output_type": "stream",
     "text": [
      "[2 0 2 0 1 1 1 2 1 1 1 2 1 2 1 2 2 1 0 0 0 1 1 1 0 0 0 1 1 2]\n"
     ]
    }
   ],
   "source": [
    "y_pred_test1 = petal_model.predict(X_test1)\n",
    "print(y_pred_test1)"
   ]
  },
  {
   "cell_type": "code",
   "execution_count": 41,
   "metadata": {},
   "outputs": [
    {
     "name": "stdout",
     "output_type": "stream",
     "text": [
      "[1 2 0 1 2 0 2 2 2 1 0 1 2 2 0 2 0 0 0 0 0 0 2 0 1 0 1 2 2 0 2 2 0 0 0 0 1\n",
      " 0 2 2 2 1 0 2 0 1 1 1 1 2 2 1 0 2 2 0 1 0 0 0 0 2 0 2 2 2 2 0 1 0 0 1 0 1\n",
      " 2 2 2 1 1 2 2 2 2 1 0 0 2 1 2 0 0 0 2 1 0 1 0 2 0 1 2 2 1 1 2 1 1 1 2 2 0\n",
      " 2 0 1 1 1 0 2 1 1]\n"
     ]
    }
   ],
   "source": [
    "y_pred_train1 = petal_model.predict(X_train1)\n",
    "print(y_pred_train1)"
   ]
  },
  {
   "cell_type": "markdown",
   "metadata": {},
   "source": [
    "## 8. Calculate and print the accuracy score for both the training and the testing set."
   ]
  },
  {
   "cell_type": "code",
   "execution_count": 47,
   "metadata": {},
   "outputs": [
    {
     "name": "stdout",
     "output_type": "stream",
     "text": [
      "Accuracy score(Train) = 0.97\n",
      "Accuracy score(Test) = 1.0\n"
     ]
    }
   ],
   "source": [
    "from sklearn.metrics import accuracy_score\n",
    "print(f\"Accuracy score(Train) = {accuracy_score(y_pred_train1,y_train1):.2f}\")\n",
    "print(f\"Accuracy score(Test) = {accuracy_score(y_pred_test1, y_test1)}\")"
   ]
  },
  {
   "cell_type": "markdown",
   "metadata": {},
   "source": [
    "## 9. Calculate and print the balanced accuracy score for both the training and the testing set."
   ]
  },
  {
   "cell_type": "code",
   "execution_count": 48,
   "metadata": {},
   "outputs": [
    {
     "name": "stdout",
     "output_type": "stream",
     "text": [
      "Balanced accuracy score(Train) = 0.97\n",
      "Balanced accuracy score(Test) = 1.0\n"
     ]
    }
   ],
   "source": [
    "from sklearn.metrics import balanced_accuracy_score\n",
    "print(f\"Balanced accuracy score(Train) = {balanced_accuracy_score(y_pred_train1,y_train1):.2f}\")\n",
    "print(f\"Balanced accuracy score(Test) = {balanced_accuracy_score(y_pred_test1, y_test1)}\")\n"
   ]
  },
  {
   "cell_type": "markdown",
   "metadata": {},
   "source": [
    "## 10. Calculate and print the precision score for both the training and the testing set."
   ]
  },
  {
   "cell_type": "code",
   "execution_count": 49,
   "metadata": {},
   "outputs": [
    {
     "name": "stdout",
     "output_type": "stream",
     "text": [
      "Precision score(Train) = 0.97\n",
      "Precision score(Test) = 1.0\n"
     ]
    }
   ],
   "source": [
    "from sklearn.metrics import precision_score\n",
    "print(f\"Precision score(Train) = {precision_score(y_pred_train1,y_train1,average='weighted'):.2f}\")\n",
    "print(f\"Precision score(Test) = {precision_score(y_pred_test1, y_test1,average='weighted')}\")"
   ]
  },
  {
   "cell_type": "markdown",
   "metadata": {},
   "source": [
    "## 11. Calculate and print the recall score for both the training and the testing set."
   ]
  },
  {
   "cell_type": "code",
   "execution_count": 50,
   "metadata": {},
   "outputs": [
    {
     "name": "stdout",
     "output_type": "stream",
     "text": [
      "Recall score(Train) = 0.97\n",
      "Recall score(Test) = 1.0\n"
     ]
    }
   ],
   "source": [
    "from sklearn.metrics import recall_score\n",
    "print(f\"Recall score(Train) = {recall_score(y_pred_train1,y_train1,average='weighted'):.2f}\")\n",
    "print(f\"Recall score(Test) = {recall_score(y_pred_test1, y_test1,average='weighted')}\")"
   ]
  },
  {
   "cell_type": "markdown",
   "metadata": {},
   "source": [
    "## 12. Calculate and print the F1 score for both the training and the testing set."
   ]
  },
  {
   "cell_type": "code",
   "execution_count": 51,
   "metadata": {},
   "outputs": [
    {
     "name": "stdout",
     "output_type": "stream",
     "text": [
      "F1 score(Train) = 0.97\n",
      "F1 score(Test) = 1.0\n"
     ]
    }
   ],
   "source": [
    "from sklearn.metrics import f1_score\n",
    "\n",
    "print(f\"F1 score(Train) = {f1_score(y_pred_train1,y_train1,average='weighted'):.2f}\")\n",
    "print(f\"F1 score(Test) = {f1_score(y_pred_test1, y_test1,average='weighted')}\")\n",
    "\n"
   ]
  },
  {
   "cell_type": "markdown",
   "metadata": {},
   "source": [
    "## 13. Generate confusion matrices for both the training and the testing set."
   ]
  },
  {
   "cell_type": "code",
   "execution_count": 54,
   "metadata": {},
   "outputs": [],
   "source": [
    "from sklearn.metrics import confusion_matrix\n",
    "import seaborn as sns"
   ]
  },
  {
   "cell_type": "code",
   "execution_count": 56,
   "metadata": {},
   "outputs": [
    {
     "name": "stdout",
     "output_type": "stream",
     "text": [
      "[[ 8  0  0]\n",
      " [ 0 14  0]\n",
      " [ 0  0  8]]\n"
     ]
    },
    {
     "data": {
      "text/plain": [
       "<AxesSubplot:>"
      ]
     },
     "execution_count": 56,
     "metadata": {},
     "output_type": "execute_result"
    },
    {
     "data": {
      "image/png": "[encoded data removed]",
      "text/plain": [
       "<Figure size 432x288 with 2 Axes>"
      ]
     },
     "metadata": {
      "needs_background": "light"
     },
     "output_type": "display_data"
    }
   ],
   "source": [
    "cm0 = confusion_matrix(y_test1,y_pred_test1)\n",
    "print(cm0)\n",
    "sns.heatmap(cm0,annot=True)"
   ]
  },
  {
   "cell_type": "code",
   "execution_count": 58,
   "metadata": {},
   "outputs": [
    {
     "name": "stdout",
     "output_type": "stream",
     "text": [
      "[[42  0  0]\n",
      " [ 0 33  3]\n",
      " [ 0  1 41]]\n"
     ]
    },
    {
     "data": {
      "text/plain": [
       "<AxesSubplot:>"
      ]
     },
     "execution_count": 58,
     "metadata": {},
     "output_type": "execute_result"
    },
    {
     "data": {
      "image/png": "[encoded data removed]",
      "text/plain": [
       "<Figure size 432x288 with 2 Axes>"
      ]
     },
     "metadata": {
      "needs_background": "light"
     },
     "output_type": "display_data"
    }
   ],
   "source": [
    "cm1 = confusion_matrix(y_train1,y_pred_train1)\n",
    "print(cm1)\n",
    "sns.heatmap(cm1,annot=True)"
   ]
  },
  {
   "cell_type": "markdown",
   "metadata": {},
   "source": [
    "## Bonus: For each of the data sets in this lab, try training with some of the other models you have learned about, recalculate the evaluation metrics, and compare to determine which models perform best on each data set."
   ]
  },
  {
   "cell_type": "code",
   "execution_count": 63,
   "metadata": {},
   "outputs": [],
   "source": [
    "from sklearn.svm import LinearSVC\n",
    "from sklearn.ensemble import RandomForestClassifier\n",
    "from sklearn.svm import SVC\n",
    "from sklearn.calibration import CalibratedClassifierCV\n",
    "printMetric = lambda label,value:print(f\"\\t {label}: {round(value,3)}\")\n",
    "models = {\n",
    "    \"logis\": LogisticRegression(C=10,solver=\"lbfgs\"),\n",
    "    \"logis-2\": LogisticRegression(C=1,solver=\"lbfgs\"),\n",
    "    \"svm-linear\": CalibratedClassifierCV(LinearSVC(),cv=3),\n",
    "    \"svm-rbf\": CalibratedClassifierCV(SVC(kernel=\"sigmoid\",gamma=\"auto\"),cv=3),\n",
    "    \"randomforest\": RandomForestClassifier(n_estimators=100),\n",
    "}\n"
   ]
  },
  {
   "cell_type": "code",
   "execution_count": 64,
   "metadata": {},
   "outputs": [
    {
     "name": "stdout",
     "output_type": "stream",
     "text": [
      "Training logis...\n",
      "Training logis-2...\n",
      "Training svm-linear...\n"
     ]
    },
    {
     "name": "stderr",
     "output_type": "stream",
     "text": [
      "/usr/local/lib/python3.8/site-packages/sklearn/utils/validation.py:72: DataConversionWarning: A column-vector y was passed when a 1d array was expected. Please change the shape of y to (n_samples, ), for example using ravel().\n",
      "  return f(**kwargs)\n",
      "/usr/local/lib/python3.8/site-packages/sklearn/linear_model/_logistic.py:762: ConvergenceWarning: lbfgs failed to converge (status=1):\n",
      "STOP: TOTAL NO. of ITERATIONS REACHED LIMIT.\n",
      "\n",
      "Increase the number of iterations (max_iter) or scale the data as shown in:\n",
      "    https://scikit-learn.org/stable/modules/preprocessing.html\n",
      "Please also refer to the documentation for alternative solver options:\n",
      "    https://scikit-learn.org/stable/modules/linear_model.html#logistic-regression\n",
      "  n_iter_i = _check_optimize_result(\n",
      "/usr/local/lib/python3.8/site-packages/sklearn/utils/validation.py:72: DataConversionWarning: A column-vector y was passed when a 1d array was expected. Please change the shape of y to (n_samples, ), for example using ravel().\n",
      "  return f(**kwargs)\n",
      "/usr/local/lib/python3.8/site-packages/sklearn/linear_model/_logistic.py:762: ConvergenceWarning: lbfgs failed to converge (status=1):\n",
      "STOP: TOTAL NO. of ITERATIONS REACHED LIMIT.\n",
      "\n",
      "Increase the number of iterations (max_iter) or scale the data as shown in:\n",
      "    https://scikit-learn.org/stable/modules/preprocessing.html\n",
      "Please also refer to the documentation for alternative solver options:\n",
      "    https://scikit-learn.org/stable/modules/linear_model.html#logistic-regression\n",
      "  n_iter_i = _check_optimize_result(\n",
      "/usr/local/lib/python3.8/site-packages/sklearn/utils/validation.py:72: DataConversionWarning: A column-vector y was passed when a 1d array was expected. Please change the shape of y to (n_samples, ), for example using ravel().\n",
      "  return f(**kwargs)\n",
      "/usr/local/lib/python3.8/site-packages/sklearn/svm/_base.py:976: ConvergenceWarning: Liblinear failed to converge, increase the number of iterations.\n",
      "  warnings.warn(\"Liblinear failed to converge, increase \"\n",
      "/usr/local/lib/python3.8/site-packages/sklearn/svm/_base.py:976: ConvergenceWarning: Liblinear failed to converge, increase the number of iterations.\n",
      "  warnings.warn(\"Liblinear failed to converge, increase \"\n",
      "/usr/local/lib/python3.8/site-packages/sklearn/svm/_base.py:976: ConvergenceWarning: Liblinear failed to converge, increase the number of iterations.\n",
      "  warnings.warn(\"Liblinear failed to converge, increase \"\n"
     ]
    },
    {
     "name": "stdout",
     "output_type": "stream",
     "text": [
      "Training svm-rbf...\n",
      "Training randomforest...\n"
     ]
    },
    {
     "name": "stderr",
     "output_type": "stream",
     "text": [
      "/usr/local/lib/python3.8/site-packages/sklearn/utils/validation.py:72: DataConversionWarning: A column-vector y was passed when a 1d array was expected. Please change the shape of y to (n_samples, ), for example using ravel().\n",
      "  return f(**kwargs)\n",
      "<ipython-input-64-67b57f4b13d3>:3: DataConversionWarning: A column-vector y was passed when a 1d array was expected. Please change the shape of y to (n_samples,), for example using ravel().\n",
      "  m.fit(X_train, y_train)\n"
     ]
    },
    {
     "name": "stdout",
     "output_type": "stream",
     "text": [
      "Train complete\n"
     ]
    }
   ],
   "source": [
    "for name,m in models.items():\n",
    "    print(f\"Training {name}...\")\n",
    "    m.fit(X_train, y_train)\n",
    "print(\"Train complete\")"
   ]
  },
  {
   "cell_type": "code",
   "execution_count": 65,
   "metadata": {},
   "outputs": [
    {
     "name": "stdout",
     "output_type": "stream",
     "text": [
      "Evaluating model logis\n",
      "\t Accuracy: 0.9\n",
      "\t Precision: 0.903\n",
      "\t Recall: 0.9\n",
      "\t F1Score: 0.9\n",
      "Evaluating model logis-2\n",
      "\t Accuracy: 0.933\n",
      "\t Precision: 0.933\n",
      "\t Recall: 0.933\n",
      "\t F1Score: 0.933\n",
      "Evaluating model svm-linear\n",
      "\t Accuracy: 0.933\n",
      "\t Precision: 0.933\n",
      "\t Recall: 0.933\n",
      "\t F1Score: 0.933\n",
      "Evaluating model svm-rbf\n",
      "\t Accuracy: 0.333\n",
      "\t Precision: 0.426\n",
      "\t Recall: 0.333\n",
      "\t F1Score: 0.203\n",
      "Evaluating model randomforest\n",
      "\t Accuracy: 0.9\n",
      "\t Precision: 0.903\n",
      "\t Recall: 0.9\n",
      "\t F1Score: 0.9\n",
      "Train complete\n"
     ]
    },
    {
     "name": "stderr",
     "output_type": "stream",
     "text": [
      "/usr/local/lib/python3.8/site-packages/sklearn/metrics/_classification.py:1221: UndefinedMetricWarning: Precision is ill-defined and being set to 0.0 in labels with no predicted samples. Use `zero_division` parameter to control this behavior.\n",
      "  _warn_prf(average, modifier, msg_start, len(result))\n"
     ]
    }
   ],
   "source": [
    "for name, model in models.items():\n",
    "    y_pred = model.predict(X_test)\n",
    "    print(f\"Evaluating model {name}\")\n",
    "    printMetric(\"Accuracy\",accuracy_score(y_test, y_pred))\n",
    "    printMetric(\"Precision\",precision_score(y_test, y_pred,average=\"weighted\"))\n",
    "    printMetric(\"Recall\",recall_score(y_test, y_pred,average=\"weighted\"))\n",
    "    printMetric(\"F1Score\",f1_score(y_test, y_pred,average=\"weighted\"))\n",
    "print(\"Train complete\")"
   ]
  },
  {
   "cell_type": "code",
   "execution_count": null,
   "metadata": {},
   "outputs": [],
   "source": []
  }
 ],
 "metadata": {
  "kernelspec": {
   "display_name": "Python 3",
   "language": "python",
   "name": "python3"
  },
  "language_info": {
   "codemirror_mode": {
    "name": "ipython",
    "version": 3
   },
   "file_extension": ".py",
   "mimetype": "text/x-python",
   "name": "python",
   "nbconvert_exporter": "python",
   "pygments_lexer": "ipython3",
   "version": "3.8.5"
  }
 },
 "nbformat": 4,
 "nbformat_minor": 2
}

{
 "cells": [
  {
   "cell_type": "markdown",
   "metadata": {},
   "source": [
    "# Challenge 1 - T-test\n",
    "\n",
    "In statistics, t-test is used to test if two data samples have a significant difference between their means. There are two types of t-test:\n",
    "\n",
    "* **Student's t-test** (a.k.a. independent or uncorrelated t-test). This type of t-test is to compare the samples of **two independent populations** (e.g. test scores of students in two different classes). `scipy` provides the [`ttest_ind`](https://docs.scipy.org/doc/scipy-0.15.1/reference/generated/scipy.stats.ttest_ind.html) method to conduct student's t-test.\n",
    "\n",
    "* **Paired t-test** (a.k.a. dependent or correlated t-test). This type of t-test is to compare the samples of **the same population** (e.g. scores of different tests of students in the same class). `scipy` provides the [`ttest_re`](https://docs.scipy.org/doc/scipy-0.15.1/reference/generated/scipy.stats.ttest_rel.html) method to conduct paired t-test.\n",
    "\n",
    "Both types of t-tests return a number which is called the **p-value**. If p-value is below 0.05, we can confidently declare the null-hypothesis is rejected and the difference is significant. If p-value is between 0.05 and 0.1, we may also declare the null-hypothesis is rejected but we are not highly confident. If p-value is above 0.1 we do not reject the null-hypothesis.\n",
    "\n",
    "Read more about the t-test in [this article](https://researchbasics.education.uconn.edu/t-test/) and [this Quora](https://www.quora.com/What-is-the-difference-between-a-paired-and-unpaired-t-test). Make sure you understand when to use which type of t-test. "
   ]
  },
  {
   "cell_type": "code",
   "execution_count": 22,
   "metadata": {},
   "outputs": [],
   "source": [
    "# Import libraries\n",
    "import numpy as np\n",
    "import pandas as pd\n",
    "from scipy.stats import t\n",
    "import matplotlib.pyplot as plt\n",
    "from scipy import stats\n"
   ]
  },
  {
   "cell_type": "markdown",
   "metadata": {},
   "source": [
    "#### Import dataset\n",
    "\n",
    "In this challenge we will work on the Pokemon dataset you have used last week. The goal is to test whether different groups of pokemon (e.g. Legendary vs Normal, Generation 1 vs 2, single-type vs dual-type) have different stats (e.g. HP, Attack, Defense, etc.)."
   ]
  },
  {
   "cell_type": "code",
   "execution_count": 5,
   "metadata": {},
   "outputs": [
    {
     "data": {
      "text/html": [
       "<div>\n",
       "<style scoped>\n",
       "    .dataframe tbody tr th:only-of-type {\n",
       "        vertical-align: middle;\n",
       "    }\n",
       "\n",
       "    .dataframe tbody tr th {\n",
       "        vertical-align: top;\n",
       "    }\n",
       "\n",
       "    .dataframe thead th {\n",
       "        text-align: right;\n",
       "    }\n",
       "</style>\n",
       "<table border=\"1\" class=\"dataframe\">\n",
       "  <thead>\n",
       "    <tr style=\"text-align: right;\">\n",
       "      <th></th>\n",
       "      <th>#</th>\n",
       "      <th>Name</th>\n",
       "      <th>Type 1</th>\n",
       "      <th>Type 2</th>\n",
       "      <th>Total</th>\n",
       "      <th>HP</th>\n",
       "      <th>Attack</th>\n",
       "      <th>Defense</th>\n",
       "      <th>Sp. Atk</th>\n",
       "      <th>Sp. Def</th>\n",
       "      <th>Speed</th>\n",
       "      <th>Generation</th>\n",
       "      <th>Legendary</th>\n",
       "    </tr>\n",
       "  </thead>\n",
       "  <tbody>\n",
       "    <tr>\n",
       "      <th>0</th>\n",
       "      <td>1</td>\n",
       "      <td>Bulbasaur</td>\n",
       "      <td>Grass</td>\n",
       "      <td>Poison</td>\n",
       "      <td>318</td>\n",
       "      <td>45</td>\n",
       "      <td>49</td>\n",
       "      <td>49</td>\n",
       "      <td>65</td>\n",
       "      <td>65</td>\n",
       "      <td>45</td>\n",
       "      <td>1</td>\n",
       "      <td>False</td>\n",
       "    </tr>\n",
       "    <tr>\n",
       "      <th>1</th>\n",
       "      <td>2</td>\n",
       "      <td>Ivysaur</td>\n",
       "      <td>Grass</td>\n",
       "      <td>Poison</td>\n",
       "      <td>405</td>\n",
       "      <td>60</td>\n",
       "      <td>62</td>\n",
       "      <td>63</td>\n",
       "      <td>80</td>\n",
       "      <td>80</td>\n",
       "      <td>60</td>\n",
       "      <td>1</td>\n",
       "      <td>False</td>\n",
       "    </tr>\n",
       "    <tr>\n",
       "      <th>2</th>\n",
       "      <td>3</td>\n",
       "      <td>Venusaur</td>\n",
       "      <td>Grass</td>\n",
       "      <td>Poison</td>\n",
       "      <td>525</td>\n",
       "      <td>80</td>\n",
       "      <td>82</td>\n",
       "      <td>83</td>\n",
       "      <td>100</td>\n",
       "      <td>100</td>\n",
       "      <td>80</td>\n",
       "      <td>1</td>\n",
       "      <td>False</td>\n",
       "    </tr>\n",
       "    <tr>\n",
       "      <th>3</th>\n",
       "      <td>3</td>\n",
       "      <td>VenusaurMega Venusaur</td>\n",
       "      <td>Grass</td>\n",
       "      <td>Poison</td>\n",
       "      <td>625</td>\n",
       "      <td>80</td>\n",
       "      <td>100</td>\n",
       "      <td>123</td>\n",
       "      <td>122</td>\n",
       "      <td>120</td>\n",
       "      <td>80</td>\n",
       "      <td>1</td>\n",
       "      <td>False</td>\n",
       "    </tr>\n",
       "    <tr>\n",
       "      <th>4</th>\n",
       "      <td>4</td>\n",
       "      <td>Charmander</td>\n",
       "      <td>Fire</td>\n",
       "      <td>NaN</td>\n",
       "      <td>309</td>\n",
       "      <td>39</td>\n",
       "      <td>52</td>\n",
       "      <td>43</td>\n",
       "      <td>60</td>\n",
       "      <td>50</td>\n",
       "      <td>65</td>\n",
       "      <td>1</td>\n",
       "      <td>False</td>\n",
       "    </tr>\n",
       "  </tbody>\n",
       "</table>\n",
       "</div>"
      ],
      "text/plain": [
       "   #                   Name Type 1  Type 2  Total  HP  Attack  Defense  \\\n",
       "0  1              Bulbasaur  Grass  Poison    318  45      49       49   \n",
       "1  2                Ivysaur  Grass  Poison    405  60      62       63   \n",
       "2  3               Venusaur  Grass  Poison    525  80      82       83   \n",
       "3  3  VenusaurMega Venusaur  Grass  Poison    625  80     100      123   \n",
       "4  4             Charmander   Fire     NaN    309  39      52       43   \n",
       "\n",
       "   Sp. Atk  Sp. Def  Speed  Generation  Legendary  \n",
       "0       65       65     45           1      False  \n",
       "1       80       80     60           1      False  \n",
       "2      100      100     80           1      False  \n",
       "3      122      120     80           1      False  \n",
       "4       60       50     65           1      False  "
      ]
     },
     "execution_count": 5,
     "metadata": {},
     "output_type": "execute_result"
    }
   ],
   "source": [
    "# Import dataset\n",
    "\n",
    "pokemon = pd.read_csv('../../lab-df-calculation-and-transformation/your-code/Pokemon.csv')\n",
    "\n",
    "pokemon.head()"
   ]
  },
  {
   "cell_type": "markdown",
   "metadata": {},
   "source": [
    "#### First we want to define a function with which we can test the means of a feature set of two samples. \n",
    "\n",
    "In the next cell you'll see the annotations of the Python function that explains what this function does and its arguments and returned value. This type of annotation is called **docstring** which is a convention used among Python developers. The docstring convention allows developers to write consistent tech documentations for their codes so that others can read. It also allows some websites to automatically parse the docstrings and display user-friendly documentations.\n",
    "\n",
    "Follow the specifications of the docstring and complete the function."
   ]
  },
  {
   "cell_type": "code",
   "execution_count": 23,
   "metadata": {},
   "outputs": [],
   "source": [
    "leg = pokemon[\"Legendary\"]==True\n",
    "leg1=pokemon[leg]\n",
    "nleg = pokemon[\"Legendary\"]==False\n",
    "nleg1= pokemon[nleg]\n",
    "features=['HP', 'Attack', 'Defense', 'Sp. Atk', 'Sp. Def', 'Speed', 'Total']"
   ]
  },
  {
   "cell_type": "code",
   "execution_count": 68,
   "metadata": {},
   "outputs": [],
   "source": [
    "def t_test_features(s1, s2, features=['HP', 'Attack', 'Defense', 'Sp. Atk', 'Sp. Def', 'Speed', 'Total']):\n",
    "    \"\"\"Test means of a feature set of two samples\n",
    "    \n",
    "    Args:\n",
    "        s1 (dataframe): sample 1\n",
    "        s2 (dataframe): sample 2\n",
    "        features (list): an array of features to test\n",
    "    \n",
    "    Returns:\n",
    "        dict: a dictionary of t-test scores for each feature where the feature name is the key and the p-value is the value\n",
    "    \"\"\"\n",
    "    results = {}\n",
    "\n",
    "    # Your code here\n",
    "    a = stats.ttest_1samp(s1,s2,features)\n",
    "    results.append({f\"{features}\":{b}})\n",
    "        \n",
    "    \n",
    "    return results\n",
    "\n",
    "\n",
    "                   \n",
    "                   "
   ]
  },
  {
   "cell_type": "code",
   "execution_count": 54,
   "metadata": {
    "scrolled": false
   },
   "outputs": [
    {
     "data": {
      "text/plain": [
       "Ttest_1sampResult(statistic=0      17.718298\n",
       "1      12.150995\n",
       "2       4.727925\n",
       "3       4.727925\n",
       "4      19.945220\n",
       "         ...    \n",
       "787     2.872157\n",
       "788    14.006763\n",
       "789    -0.839378\n",
       "790    19.574066\n",
       "791     2.872157\n",
       "Name: HP, Length: 735, dtype: float64, pvalue=array([2.27199847e-26, 2.82312964e-18, 1.28907814e-05, 1.28907814e-05,\n",
       "       3.65909553e-29, 1.87723644e-19, 7.96922133e-07, 7.96922133e-07,\n",
       "       7.96922133e-07, 7.49302696e-27, 7.21697716e-19, 3.26397350e-06,\n",
       "       3.26397350e-06, 2.27199847e-26, 7.39954207e-24, 2.82312964e-18,\n",
       "       1.03049070e-28, 2.27199847e-26, 3.31065081e-15, 3.31065081e-15,\n",
       "       1.03049070e-28, 1.86942171e-16, 5.93128983e-04, 5.93128983e-04,\n",
       "       5.94588153e-33, 3.67138935e-21, 1.03049070e-28, 3.31065081e-15,\n",
       "       6.66745985e-31, 2.82312964e-18, 6.66745985e-31, 2.82312964e-18,\n",
       "       7.39954207e-24, 9.94433685e-09, 3.67138935e-21, 5.42781285e-12,\n",
       "       3.13270902e-01, 6.99746658e-26, 1.12339026e-17, 4.87416517e-05,\n",
       "       5.42781285e-12, 4.04381749e-01, 1.31750136e-29, 4.97179126e-10,\n",
       "       1.11173767e-11, 3.87745994e-26, 1.03049070e-28, 9.94433685e-09,\n",
       "       2.27199847e-26, 2.82312964e-18, 9.94433685e-09, 6.66745985e-31,\n",
       "       2.82312964e-18, 2.82312964e-18, 5.42781285e-12, 5.14602614e-40,\n",
       "       6.66745985e-31, 1.03049070e-28, 3.31065081e-15, 7.39954207e-24,\n",
       "       1.28907814e-05, 1.03049070e-28, 3.31065081e-15, 3.67138935e-21,\n",
       "       3.13270902e-01, 1.03049070e-28, 3.31065081e-15, 3.13270902e-01,\n",
       "       7.07833308e-35, 1.03049070e-28, 3.67138935e-21, 3.67138935e-21,\n",
       "       5.42781285e-12, 1.28907814e-05, 3.13270902e-01, 7.39954207e-24,\n",
       "       3.31065081e-15, 1.28907814e-05, 1.03049070e-28, 1.28907814e-05,\n",
       "       1.03049070e-28, 3.67138935e-21, 1.28907814e-05, 7.39954207e-24,\n",
       "       3.31065081e-15, 3.13270902e-01, 4.04381749e-01, 4.04381749e-01,\n",
       "       7.07833308e-35, 7.39954207e-24, 8.41202227e-23, 6.66745985e-31,\n",
       "       2.82312964e-18, 3.31065081e-15, 3.13270902e-01, 1.28907814e-05,\n",
       "       2.44521549e-05, 5.94588153e-33, 7.39954207e-24, 5.94588153e-33,\n",
       "       2.27199847e-26, 2.82312964e-18, 2.82312964e-18, 6.66745985e-31,\n",
       "       2.82312964e-18, 5.52345434e-03, 5.94588153e-33, 3.67138935e-21,\n",
       "       1.03049070e-28, 2.82312964e-18, 2.82312964e-18, 4.04381749e-01,\n",
       "       7.39954207e-24, 2.82312964e-18, 7.39954207e-24, 7.39954207e-24,\n",
       "       3.13270902e-01, 1.03049070e-28, 3.31065081e-15, 1.28907814e-05,\n",
       "       2.44521549e-05, 3.19822079e-57, 3.31065081e-15, 2.44521549e-05,\n",
       "       2.44521549e-05, 5.94588153e-33, 3.67138935e-21, 2.27199847e-26,\n",
       "       1.28907814e-05, 5.94588153e-33, 2.82312964e-18, 1.03049070e-28,\n",
       "       5.42781285e-12, 3.31065081e-15, 3.31065081e-15, 3.31065081e-15,\n",
       "       3.31065081e-15, 3.31065081e-15, 9.94433685e-09, 1.09290239e-36,\n",
       "       4.04381749e-01, 4.04381749e-01, 6.78980510e-21, 6.96342193e-25,\n",
       "       3.67138935e-21, 6.78980510e-21, 3.31065081e-15, 3.31065081e-15,\n",
       "       3.31065081e-15, 6.66745985e-31, 5.42781285e-12, 5.94588153e-33,\n",
       "       2.82312964e-18, 1.28907814e-05, 1.28907814e-05, 1.06762590e-34,\n",
       "       2.94363868e-28, 1.12339026e-17, 5.21080666e-01, 8.97751345e-03,\n",
       "       2.27199847e-26, 2.82312964e-18, 1.28907814e-05, 3.65909553e-29,\n",
       "       1.87723644e-19, 7.96922133e-07, 7.39954207e-24, 3.31065081e-15,\n",
       "       5.52345434e-03, 6.66745985e-31, 5.52345434e-03, 2.82312964e-18,\n",
       "       8.97751345e-03, 1.03049070e-28, 3.67138935e-21, 1.03049070e-28,\n",
       "       5.42781285e-12, 5.52345434e-03, 9.94433685e-09, 5.44342014e-18,\n",
       "       1.09290239e-36, 7.39954207e-24, 3.13270902e-01, 6.66745985e-31,\n",
       "       3.67138935e-21, 1.03049070e-28, 3.31065081e-15, 3.67138935e-21,\n",
       "       5.42781285e-12, 3.13270902e-01, 3.13270902e-01, 9.94433685e-09,\n",
       "       5.42781285e-12, 8.97751345e-03, 5.42781285e-12, 3.13270902e-01,\n",
       "       6.66745985e-31, 3.67138935e-21, 9.94433685e-09, 3.67138935e-21,\n",
       "       5.94588153e-33, 9.94433685e-09, 3.31065081e-15, 3.67138935e-21,\n",
       "       4.04381749e-01, 3.31065081e-15, 4.04381749e-01, 2.82312964e-18,\n",
       "       4.04381749e-01, 2.82312964e-18, 6.96342193e-25, 2.87763043e-44,\n",
       "       5.42781285e-12, 7.39954207e-24, 9.94433685e-09, 8.97751345e-03,\n",
       "       3.31065081e-15, 9.94433685e-09, 9.94433685e-09, 2.82312964e-18,\n",
       "       3.13270902e-01, 3.31065081e-15, 5.42781285e-12, 5.42781285e-12,\n",
       "       1.09290239e-36, 1.28907814e-05, 1.28907814e-05, 3.67138935e-21,\n",
       "       2.82312964e-18, 3.13270902e-01, 1.03049070e-28, 7.39954207e-24,\n",
       "       7.39954207e-24, 8.97751345e-03, 3.67138935e-21, 6.66745985e-31,\n",
       "       9.94433685e-09, 2.27199847e-26, 3.31065081e-15, 3.31065081e-15,\n",
       "       2.27199847e-26, 9.94433685e-09, 9.94433685e-09, 9.94433685e-09,\n",
       "       3.13270902e-01, 3.13270902e-01, 5.52345434e-03, 4.97179126e-10,\n",
       "       3.67138935e-21, 6.66745985e-31, 7.39954207e-24, 2.27199847e-26,\n",
       "       2.27199847e-26, 2.27199847e-26, 4.04381749e-01, 4.46966254e-58,\n",
       "       7.39954207e-24, 5.42781285e-12, 8.97751345e-03, 8.97751345e-03,\n",
       "       8.97751345e-03, 1.03049070e-28, 7.39954207e-24, 5.42781285e-12,\n",
       "       5.42781285e-12, 2.27199847e-26, 2.82312964e-18, 1.28907814e-05,\n",
       "       1.28907814e-05, 7.39954207e-24, 5.42781285e-12, 8.97751345e-03,\n",
       "       8.97751345e-03, 6.66745985e-31, 5.42781285e-12, 1.31750136e-29,\n",
       "       7.96922133e-07, 2.27199847e-26, 7.39954207e-24, 2.82312964e-18,\n",
       "       7.39954207e-24, 2.82312964e-18, 1.03049070e-28, 2.82312964e-18,\n",
       "       1.28907814e-05, 1.03049070e-28, 5.42781285e-12, 3.13270902e-01,\n",
       "       1.03049070e-28, 2.82312964e-18, 1.03049070e-28, 2.82312964e-18,\n",
       "       9.77642233e-34, 1.31750136e-29, 2.72727704e-13, 2.72727704e-13,\n",
       "       1.03049070e-28, 5.42781285e-12, 2.82312964e-18, 2.82312964e-18,\n",
       "       2.82312964e-18, 1.28907814e-05, 1.06297926e-30, 1.49177354e-32,\n",
       "       1.12339026e-17, 1.01095314e-42, 7.80899890e-16, 1.87895544e-03,\n",
       "       9.03172638e-05, 1.10248614e-10, 4.88083501e-28, 7.39954207e-24,\n",
       "       5.94588153e-33, 7.39954207e-24, 5.42781285e-12, 7.39954207e-24,\n",
       "       7.39954207e-24, 7.39954207e-24, 7.39954207e-24, 7.39954207e-24,\n",
       "       2.82312964e-18, 5.42781285e-12, 5.42781285e-12, 5.94588153e-33,\n",
       "       2.82312964e-18, 2.82312964e-18, 1.03049070e-28, 5.42781285e-12,\n",
       "       5.42781285e-12, 2.82312964e-18, 2.82312964e-18, 3.31065081e-15,\n",
       "       3.31065081e-15, 7.39954207e-24, 5.42781285e-12, 8.97751345e-03,\n",
       "       2.27199847e-26, 5.42781285e-12, 5.42781285e-12, 6.78980510e-21,\n",
       "       3.07600092e-38, 2.82312964e-18, 5.42781285e-12, 5.42781285e-12,\n",
       "       5.42781285e-12, 2.82312964e-18, 1.28907814e-05, 2.82312964e-18,\n",
       "       2.27199847e-26, 7.39954207e-24, 1.28907814e-05, 7.39954207e-24,\n",
       "       5.42781285e-12, 2.27199847e-26, 9.94433685e-09, 9.94433685e-09,\n",
       "       4.97179126e-10, 4.97179126e-10, 5.42781285e-12, 5.42781285e-12,\n",
       "       7.39954207e-24, 2.01906856e-08, 2.50938911e-27, 1.86942171e-16,\n",
       "       1.03049070e-28, 2.82312964e-18, 1.42310298e-14, 1.49543600e-02,\n",
       "       2.27199847e-26, 9.94433685e-09, 1.09290239e-36, 4.04381749e-01,\n",
       "       5.42781285e-12, 2.82312964e-18, 7.49302696e-27, 7.80899890e-16,\n",
       "       7.80899890e-16, 1.09290239e-36, 1.03049070e-28, 2.33129734e-02,\n",
       "       3.31065081e-15, 3.31065081e-15, 3.31065081e-15, 4.04381749e-01,\n",
       "       7.39954207e-24, 1.28907814e-05, 1.28907814e-05, 5.42781285e-12,\n",
       "       3.13270902e-01, 2.01906856e-08, 6.66745985e-31, 3.67138935e-21,\n",
       "       3.67138935e-21, 8.97751345e-03, 2.50938911e-27, 2.27199847e-26,\n",
       "       3.31065081e-15, 4.04381749e-01, 4.04381749e-01, 1.03049070e-28,\n",
       "       2.82312964e-18, 1.28907814e-05, 1.28907814e-05, 3.67138935e-21,\n",
       "       9.94433685e-09, 4.04381749e-01, 7.49302696e-27, 7.80899890e-16,\n",
       "       4.37286899e-08, 2.91044118e-22, 7.80899890e-16, 1.87895544e-03,\n",
       "       1.03049070e-28, 3.67138935e-21, 5.52345434e-03, 7.21697716e-19,\n",
       "       3.26397350e-06, 4.80899754e-30, 1.88884001e-07, 2.27199847e-26,\n",
       "       2.82312964e-18, 1.28907814e-05, 1.03049070e-28, 2.82312964e-18,\n",
       "       6.19509683e-14, 1.18651308e-01, 5.94588153e-33, 2.82312964e-18,\n",
       "       1.03049070e-28, 2.82312964e-18, 2.82312964e-18, 2.82312964e-18,\n",
       "       5.42781285e-12, 5.94588153e-33, 5.42781285e-12, 2.82312964e-18,\n",
       "       3.67138935e-21, 5.52345434e-03, 2.27199847e-26, 5.42781285e-12,\n",
       "       4.37286899e-08, 4.55821846e-09, 9.94433685e-09, 3.13270902e-01,\n",
       "       1.06297926e-30, 3.67138935e-21, 3.31065081e-15, 3.31065081e-15,\n",
       "       2.82312964e-18, 8.97751345e-03, 2.25111580e-24, 2.44320305e-11,\n",
       "       2.27199847e-26, 1.86942171e-16, 3.15802594e-04, 4.96931919e-20,\n",
       "       6.19509683e-14, 7.39954207e-24, 1.09290239e-36, 8.97751345e-03,\n",
       "       4.37286899e-08, 7.39954207e-24, 1.87723644e-19, 2.72727704e-13,\n",
       "       3.76538931e-07, 3.76538931e-07, 1.31297966e-23, 1.03049070e-28,\n",
       "       5.42781285e-12, 5.42781285e-12, 2.72727704e-13, 3.76538931e-07,\n",
       "       1.03049070e-28, 5.42781285e-12, 6.96342193e-25, 5.93128983e-04,\n",
       "       2.23270957e-09, 2.25111580e-24, 1.21211492e-12, 2.27199847e-26,\n",
       "       2.82312964e-18, 3.13270902e-01, 3.13270902e-01, 5.42781285e-12,\n",
       "       5.42781285e-12, 2.01906856e-08, 1.11173767e-11, 8.97751345e-03,\n",
       "       9.94433685e-09, 9.94433685e-09, 5.52345434e-03, 1.49543600e-02,\n",
       "       3.31065081e-15, 3.31065081e-15, 9.94433685e-09, 2.01906856e-08,\n",
       "       5.52345434e-03, 2.72727704e-13, 2.72727704e-13, 2.82312964e-18,\n",
       "       2.27199847e-26, 5.42781285e-12, 7.39954207e-24, 7.39954207e-24,\n",
       "       7.39954207e-24, 7.39954207e-24, 7.39954207e-24, 7.39954207e-24,\n",
       "       6.62582736e-15, 1.28907814e-05, 8.97751345e-03, 2.27199847e-26,\n",
       "       2.82312964e-18, 9.94433685e-09, 3.31065081e-15, 3.13270902e-01,\n",
       "       2.01906856e-08, 3.67138935e-21, 9.94433685e-09, 4.04381749e-01,\n",
       "       2.27199847e-26, 2.82312964e-18, 2.27199847e-26, 3.31065081e-15,\n",
       "       5.52345434e-03, 2.94363868e-28, 7.80899890e-16, 7.39954207e-24,\n",
       "       9.94433685e-09, 7.39954207e-24, 9.94433685e-09, 7.39954207e-24,\n",
       "       9.94433685e-09, 4.37286899e-08, 2.47577140e-12, 7.39954207e-24,\n",
       "       4.54562998e-17, 1.28907814e-05, 2.27199847e-26, 9.94433685e-09,\n",
       "       3.67138935e-21, 5.42781285e-12, 5.52345434e-03, 3.67138935e-21,\n",
       "       6.19509683e-14, 2.82312964e-18, 2.01906856e-08, 3.15802594e-04,\n",
       "       3.15802594e-04, 9.94433685e-09, 5.52345434e-03, 2.44521549e-05,\n",
       "       7.39954207e-24, 9.94433685e-09, 2.44521549e-05, 6.62582736e-15,\n",
       "       9.94433685e-09, 2.27199847e-26, 3.67138935e-21, 9.94433685e-09,\n",
       "       5.94588153e-33, 1.03049070e-28, 2.82312964e-18, 1.03049070e-28,\n",
       "       2.82312964e-18, 2.27199847e-26, 5.42781285e-12, 5.42781285e-12,\n",
       "       7.39954207e-24, 2.82312964e-18, 4.04381749e-01, 5.42781285e-12,\n",
       "       2.44521549e-05, 2.44521549e-05, 9.94433685e-09, 7.39954207e-24,\n",
       "       5.42781285e-12, 7.39954207e-24, 3.31065081e-15, 1.10248614e-10,\n",
       "       1.31750136e-29, 1.87723644e-19, 1.02467178e-21, 2.23270957e-09,\n",
       "       3.67138935e-21, 9.94433685e-09, 7.39954207e-24, 1.28907814e-05,\n",
       "       1.03049070e-28, 2.82312964e-18, 3.67138935e-21, 9.94433685e-09,\n",
       "       2.27199847e-26, 2.82312964e-18, 5.42781285e-12, 2.27199847e-26,\n",
       "       3.31065081e-15, 2.01906856e-08, 4.54562998e-17, 9.94433685e-09,\n",
       "       1.77895078e-30, 2.47367325e-23, 2.44320305e-11, 2.82312964e-18,\n",
       "       1.28907814e-05, 3.67138935e-21, 7.39954207e-24, 5.42781285e-12,\n",
       "       1.21211492e-12, 5.01197210e-11, 3.67138935e-21, 8.97751345e-03,\n",
       "       1.60990012e-36, 7.39954207e-24, 5.42781285e-12, 7.49302696e-27,\n",
       "       2.23270957e-09, 1.03049070e-28, 2.82312964e-18, 2.82312964e-18,\n",
       "       6.66745985e-31, 3.31065081e-15, 5.52345434e-03, 3.67138935e-21,\n",
       "       9.94433685e-09, 7.39954207e-24, 2.82312964e-18, 2.82312964e-18,\n",
       "       6.99746658e-26, 1.42310298e-14, 4.37286899e-08, 3.67138935e-21,\n",
       "       4.04381749e-01, 5.42781285e-12, 7.39954207e-24, 1.28907814e-05,\n",
       "       8.80906664e-08, 2.27199847e-26, 3.31065081e-15, 1.88884001e-07,\n",
       "       7.21697716e-19, 1.70088730e-01, 2.27199847e-26, 3.31065081e-15,\n",
       "       4.04381749e-01, 5.42781285e-12, 8.97751345e-03, 5.42781285e-12,\n",
       "       2.01906856e-08, 5.52345434e-03, 1.87723644e-19, 8.41202227e-23,\n",
       "       1.10248614e-10, 7.84903840e-01, 3.67138935e-21, 5.52345434e-03,\n",
       "       5.21080666e-01, 5.21080666e-01, 8.97751345e-03, 8.97751345e-03,\n",
       "       2.44320305e-11, 1.33884441e-20, 1.12339026e-17, 8.34093106e-02,\n",
       "       1.03049070e-28, 7.21697716e-19, 9.94433685e-09, 2.94363868e-28,\n",
       "       1.02467178e-21, 1.10248614e-10, 1.31750136e-29, 5.52345434e-03,\n",
       "       2.27199847e-26, 4.54562998e-17, 7.96922133e-07, 1.31750136e-29,\n",
       "       2.27199847e-26, 1.28907814e-05, 4.54562998e-17, 1.49543600e-02,\n",
       "       7.49302696e-27, 1.02467178e-21, 7.96922133e-07, 1.42310298e-14,\n",
       "       8.90460885e-17, 6.19509683e-14, 4.04381749e-01, 9.94433685e-09,\n",
       "       4.54562998e-17, 2.23270957e-09, 2.23270957e-09, 2.27199847e-26,\n",
       "       7.21697716e-19, 2.82312964e-18, 2.82312964e-18, 7.96922133e-07,\n",
       "       3.17331208e-03, 4.54562998e-17, 1.75115725e-04, 2.91044118e-22,\n",
       "       1.49543600e-02, 8.53135600e-28, 1.10248614e-10, 7.39954207e-24,\n",
       "       3.31065081e-15, 7.39954207e-24, 2.44320305e-11, 7.49302696e-27,\n",
       "       4.54562998e-17, 1.87723644e-19, 1.75115725e-04, 1.88884001e-07,\n",
       "       8.90460885e-17, 4.04381749e-01, 7.96922133e-07, 6.19509683e-14,\n",
       "       7.39954207e-24, 2.27199847e-26, 2.72727704e-13, 3.13270902e-01,\n",
       "       4.96931919e-20, 2.50938911e-27, 5.52345434e-03, 2.25111580e-24,\n",
       "       7.49302696e-27, 1.02467178e-21, 7.21697716e-19, 3.31065081e-15,\n",
       "       3.67138935e-21, 9.94433685e-09, 5.52345434e-03, 3.67138935e-21,\n",
       "       4.04381749e-01, 1.03049070e-28, 5.52345434e-03]))"
      ]
     },
     "execution_count": 54,
     "metadata": {},
     "output_type": "execute_result"
    }
   ],
   "source": [
    "\n",
    "stats.ttest_1samp(leg1[\"HP\"],nleg1[\"HP\"])\n",
    "\n",
    " "
   ]
  },
  {
   "cell_type": "markdown",
   "metadata": {},
   "source": [
    "#### Using the `t_test_features` function, conduct t-test for Lengendary vs non-Legendary pokemons.\n",
    "\n",
    "*Hint: your output should look like below:*\n",
    "\n",
    "```\n",
    "{'HP': 1.0026911708035284e-13,\n",
    " 'Attack': 2.520372449236646e-16,\n",
    " 'Defense': 4.8269984949193316e-11,\n",
    " 'Sp. Atk': 1.5514614112239812e-21,\n",
    " 'Sp. Def': 2.2949327864052826e-15,\n",
    " 'Speed': 1.049016311882451e-18,\n",
    " 'Total': 9.357954335957446e-47}\n",
    " ```"
   ]
  },
  {
   "cell_type": "code",
   "execution_count": 67,
   "metadata": {},
   "outputs": [
    {
     "ename": "TypeError",
     "evalue": "tuple indices must be integers or slices, not str",
     "output_type": "error",
     "traceback": [
      "\u001b[0;31m---------------------------------------------------------------------------\u001b[0m",
      "\u001b[0;31mTypeError\u001b[0m                                 Traceback (most recent call last)",
      "\u001b[0;32m<ipython-input-67-c4492e53e21c>\u001b[0m in \u001b[0;36m<module>\u001b[0;34m\u001b[0m\n\u001b[1;32m      1\u001b[0m \u001b[0;31m# Your code here\u001b[0m\u001b[0;34m\u001b[0m\u001b[0;34m\u001b[0m\u001b[0;34m\u001b[0m\u001b[0m\n\u001b[0;32m----> 2\u001b[0;31m \u001b[0mt_test_features\u001b[0m\u001b[0;34m(\u001b[0m\u001b[0mleg\u001b[0m\u001b[0;34m,\u001b[0m\u001b[0mnleg1\u001b[0m\u001b[0;34m,\u001b[0m\u001b[0mfeatures\u001b[0m\u001b[0;34m=\u001b[0m\u001b[0;34m'HP'\u001b[0m\u001b[0;34m)\u001b[0m\u001b[0;34m\u001b[0m\u001b[0;34m\u001b[0m\u001b[0m\n\u001b[0m",
      "\u001b[0;32m<ipython-input-66-4a460bb40e45>\u001b[0m in \u001b[0;36mt_test_features\u001b[0;34m(s1, s2, features)\u001b[0m\n\u001b[1;32m     13\u001b[0m \u001b[0;34m\u001b[0m\u001b[0m\n\u001b[1;32m     14\u001b[0m     \u001b[0;31m# Your code here\u001b[0m\u001b[0;34m\u001b[0m\u001b[0;34m\u001b[0m\u001b[0;34m\u001b[0m\u001b[0m\n\u001b[0;32m---> 15\u001b[0;31m     \u001b[0ma\u001b[0m \u001b[0;34m=\u001b[0m \u001b[0mstats\u001b[0m\u001b[0;34m.\u001b[0m\u001b[0mttest_1samp\u001b[0m\u001b[0;34m(\u001b[0m\u001b[0ms1\u001b[0m\u001b[0;34m,\u001b[0m\u001b[0ms2\u001b[0m\u001b[0;34m,\u001b[0m\u001b[0mfeatures\u001b[0m\u001b[0;34m)\u001b[0m\u001b[0;34m\u001b[0m\u001b[0;34m\u001b[0m\u001b[0m\n\u001b[0m\u001b[1;32m     16\u001b[0m     \u001b[0mresults\u001b[0m\u001b[0;34m.\u001b[0m\u001b[0mappend\u001b[0m\u001b[0;34m(\u001b[0m\u001b[0;34m{\u001b[0m\u001b[0;34mf\"{features}\"\u001b[0m\u001b[0;34m:\u001b[0m\u001b[0;34m{\u001b[0m\u001b[0mb\u001b[0m\u001b[0;34m}\u001b[0m\u001b[0;34m}\u001b[0m\u001b[0;34m)\u001b[0m\u001b[0;34m\u001b[0m\u001b[0;34m\u001b[0m\u001b[0m\n\u001b[1;32m     17\u001b[0m \u001b[0;34m\u001b[0m\u001b[0m\n",
      "\u001b[0;32m/usr/local/lib/python3.8/site-packages/scipy/stats/stats.py\u001b[0m in \u001b[0;36mttest_1samp\u001b[0;34m(a, popmean, axis, nan_policy)\u001b[0m\n\u001b[1;32m   5319\u001b[0m         \u001b[0;32mreturn\u001b[0m \u001b[0mmstats_basic\u001b[0m\u001b[0;34m.\u001b[0m\u001b[0mttest_1samp\u001b[0m\u001b[0;34m(\u001b[0m\u001b[0ma\u001b[0m\u001b[0;34m,\u001b[0m \u001b[0mpopmean\u001b[0m\u001b[0;34m,\u001b[0m \u001b[0maxis\u001b[0m\u001b[0;34m)\u001b[0m\u001b[0;34m\u001b[0m\u001b[0;34m\u001b[0m\u001b[0m\n\u001b[1;32m   5320\u001b[0m \u001b[0;34m\u001b[0m\u001b[0m\n\u001b[0;32m-> 5321\u001b[0;31m     \u001b[0mn\u001b[0m \u001b[0;34m=\u001b[0m \u001b[0ma\u001b[0m\u001b[0;34m.\u001b[0m\u001b[0mshape\u001b[0m\u001b[0;34m[\u001b[0m\u001b[0maxis\u001b[0m\u001b[0;34m]\u001b[0m\u001b[0;34m\u001b[0m\u001b[0;34m\u001b[0m\u001b[0m\n\u001b[0m\u001b[1;32m   5322\u001b[0m     \u001b[0mdf\u001b[0m \u001b[0;34m=\u001b[0m \u001b[0mn\u001b[0m \u001b[0;34m-\u001b[0m \u001b[0;36m1\u001b[0m\u001b[0;34m\u001b[0m\u001b[0;34m\u001b[0m\u001b[0m\n\u001b[1;32m   5323\u001b[0m \u001b[0;34m\u001b[0m\u001b[0m\n",
      "\u001b[0;31mTypeError\u001b[0m: tuple indices must be integers or slices, not str"
     ]
    }
   ],
   "source": [
    "# Your code here\n",
    "t_test_features(leg,nleg1,features='HP')"
   ]
  },
  {
   "cell_type": "markdown",
   "metadata": {},
   "source": [
    "#### From the test results above, what conclusion can you make? Do Legendary and non-Legendary pokemons have significantly different stats on each feature?"
   ]
  },
  {
   "cell_type": "code",
   "execution_count": null,
   "metadata": {},
   "outputs": [],
   "source": [
    "# Your comment here"
   ]
  },
  {
   "cell_type": "markdown",
   "metadata": {},
   "source": [
    "#### Next, conduct t-test for Generation 1 and Generation 2 pokemons."
   ]
  },
  {
   "cell_type": "code",
   "execution_count": null,
   "metadata": {},
   "outputs": [],
   "source": [
    "# Your code here\n"
   ]
  },
  {
   "cell_type": "markdown",
   "metadata": {},
   "source": [
    "#### What conclusions can you make?"
   ]
  },
  {
   "cell_type": "code",
   "execution_count": null,
   "metadata": {},
   "outputs": [],
   "source": [
    "# Your comment here"
   ]
  },
  {
   "cell_type": "markdown",
   "metadata": {},
   "source": [
    "#### Compare pokemons who have single type vs those having two types."
   ]
  },
  {
   "cell_type": "code",
   "execution_count": null,
   "metadata": {},
   "outputs": [],
   "source": [
    "# Your code here\n"
   ]
  },
  {
   "cell_type": "markdown",
   "metadata": {},
   "source": [
    "#### What conclusions can you make?"
   ]
  },
  {
   "cell_type": "code",
   "execution_count": null,
   "metadata": {},
   "outputs": [],
   "source": [
    "# Your comment here"
   ]
  },
  {
   "cell_type": "markdown",
   "metadata": {},
   "source": [
    "#### Now, we want to compare whether there are significant differences of `Attack` vs `Defense`  and  `Sp. Atk` vs `Sp. Def` of all pokemons. Please write your code below.\n",
    "\n",
    "*Hint: are you comparing different populations or the same population?*"
   ]
  },
  {
   "cell_type": "code",
   "execution_count": null,
   "metadata": {},
   "outputs": [],
   "source": [
    "# Your code here\n"
   ]
  },
  {
   "cell_type": "markdown",
   "metadata": {},
   "source": [
    "#### What conclusions can you make?"
   ]
  },
  {
   "cell_type": "code",
   "execution_count": null,
   "metadata": {},
   "outputs": [],
   "source": [
    "# Your comment here"
   ]
  }
 ],
 "metadata": {
  "kernelspec": {
   "display_name": "Python 3",
   "language": "python",
   "name": "python3"
  },
  "language_info": {
   "codemirror_mode": {
    "name": "ipython",
    "version": 3
   },
   "file_extension": ".py",
   "mimetype": "text/x-python",
   "name": "python",
   "nbconvert_exporter": "python",
   "pygments_lexer": "ipython3",
   "version": "3.8.5"
  }
 },
 "nbformat": 4,
 "nbformat_minor": 2
}
